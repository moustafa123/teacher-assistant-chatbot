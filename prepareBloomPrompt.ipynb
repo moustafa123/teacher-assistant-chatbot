{
  "nbformat": 4,
  "nbformat_minor": 0,
  "metadata": {
    "colab": {
      "provenance": [],
      "authorship_tag": "ABX9TyMzNFO+kukvNHxzaC28NpfN",
      "include_colab_link": true
    },
    "kernelspec": {
      "name": "python3",
      "display_name": "Python 3"
    },
    "language_info": {
      "name": "python"
    }
  },
  "cells": [
    {
      "cell_type": "markdown",
      "metadata": {
        "id": "view-in-github",
        "colab_type": "text"
      },
      "source": [
        "<a href=\"https://colab.research.google.com/github/moustafa123/teacher-assistant-chatbot/blob/main/prepareBloomPrompt.ipynb\" target=\"_parent\"><img src=\"https://colab.research.google.com/assets/colab-badge.svg\" alt=\"Open In Colab\"/></a>"
      ]
    },
    {
      "cell_type": "code",
      "execution_count": null,
      "metadata": {
        "id": "D04NbjmTedYF"
      },
      "outputs": [],
      "source": [
        "import pandas as pd\n",
        "import json"
      ]
    },
    {
      "cell_type": "code",
      "source": [
        "pd.set_option('display.max_rows', None)\n",
        "pd.set_option('display.max_columns', None)\n",
        "pd.set_option('display.width', None)\n",
        "pd.set_option('display.max_colwidth', None)"
      ],
      "metadata": {
        "id": "XaFQOpd4eoN3"
      },
      "execution_count": null,
      "outputs": []
    },
    {
      "cell_type": "code",
      "source": [
        "# CSI 5180 Dataset Generated\n",
        "dataset = pd.read_csv(\"VA-Questions-Answers.csv\")"
      ],
      "metadata": {
        "id": "RVMpkwHbeqG9"
      },
      "execution_count": null,
      "outputs": []
    },
    {
      "cell_type": "code",
      "source": [
        "dataset.dropna()\n",
        "dataset.shape"
      ],
      "metadata": {
        "id": "zXJ-SIysesU3"
      },
      "execution_count": null,
      "outputs": []
    },
    {
      "cell_type": "code",
      "source": [
        "dataset.shape"
      ],
      "metadata": {
        "id": "cLKsFWcdeuU1"
      },
      "execution_count": null,
      "outputs": []
    },
    {
      "cell_type": "code",
      "source": [
        "# Print Dataset Head\n",
        "dataset.head()"
      ],
      "metadata": {
        "id": "NrVOnS4wev8r"
      },
      "execution_count": null,
      "outputs": []
    },
    {
      "cell_type": "code",
      "source": [
        "# Build the prompt that will be passed to the model\n",
        "def buildprompts(data):\n",
        "    prompt = {}\n",
        "    prompt['text'] = \"Given the question delimited by triple backticks ```{\" + data['question'] + \"}```, what is the answer? Answer: {\" + data['answer'] + \"}\"\n",
        "    return prompt"
      ],
      "metadata": {
        "id": "8TzMgLyqexsa"
      },
      "execution_count": null,
      "outputs": []
    },
    {
      "cell_type": "code",
      "source": [
        "# Create prompt dataset\n",
        "dataset['prompt'] = dataset.apply(buildprompts, axis=1)"
      ],
      "metadata": {
        "id": "PZUgq1A3ezn0"
      },
      "execution_count": null,
      "outputs": []
    },
    {
      "cell_type": "code",
      "source": [
        "# Print prompt dataset\n",
        "print(dataset['prompt'])"
      ],
      "metadata": {
        "id": "Gdfel04Ye1XS"
      },
      "execution_count": null,
      "outputs": []
    },
    {
      "cell_type": "code",
      "source": [
        "# Insert the prompt dataset in a json file\n",
        "result = dataset['prompt'].to_list()\n",
        "with open('prompts.json', 'w') as outfile:\n",
        "    json.dump(result, outfile, ensure_ascii=False)"
      ],
      "metadata": {
        "id": "05n2kfEae2xo"
      },
      "execution_count": null,
      "outputs": []
    }
  ]
}