{
  "nbformat": 4,
  "nbformat_minor": 0,
  "metadata": {
    "colab": {
      "provenance": [],
      "authorship_tag": "ABX9TyNEEwOm2jyOo/ZewJ+HbdV8",
      "include_colab_link": true
    },
    "kernelspec": {
      "name": "python3",
      "display_name": "Python 3"
    },
    "language_info": {
      "name": "python"
    }
  },
  "cells": [
    {
      "cell_type": "markdown",
      "metadata": {
        "id": "view-in-github",
        "colab_type": "text"
      },
      "source": [
        "<a href=\"https://colab.research.google.com/github/moustafa123/teacher-assistant-chatbot/blob/main/testFineTunedBloom.ipynb\" target=\"_parent\"><img src=\"https://colab.research.google.com/assets/colab-badge.svg\" alt=\"Open In Colab\"/></a>"
      ]
    },
    {
      "cell_type": "code",
      "execution_count": null,
      "metadata": {
        "id": "tM2sS6f7gZFY"
      },
      "outputs": [],
      "source": [
        "import torch\n",
        "from transformers import pipeline\n",
        "from transformers import BloomTokenizerFast, BloomForCausalLM, TrainingArguments, Trainer"
      ]
    },
    {
      "cell_type": "code",
      "source": [
        "# Test the model\n",
        "tokenizer = BloomTokenizerFast.from_pretrained(\"bigscience/bloomz-560m\")\n",
        "model = BloomForCausalLM.from_pretrained(\"LegalQA-bloom-560m\",low_cpu_mem_usage=True).to(\"cpu\")\n",
        "prompt = 'Given the question delimited by triple backticks ```{What is Machine Learning?}```, what is the answer? Answer:'\n",
        "generator = pipeline('text-generation', model=model, tokenizer=tokenizer,do_sample=False)\n",
        "result = generator(prompt, max_length=128)\n",
        "print(result)"
      ],
      "metadata": {
        "id": "eqqoCwcbgfan"
      },
      "execution_count": null,
      "outputs": []
    }
  ]
}