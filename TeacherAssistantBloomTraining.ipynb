{
  "nbformat": 4,
  "nbformat_minor": 0,
  "metadata": {
    "colab": {
      "provenance": [],
      "authorship_tag": "ABX9TyMkwkzo9waBKP442/+/rAez",
      "include_colab_link": true
    },
    "kernelspec": {
      "name": "python3",
      "display_name": "Python 3"
    },
    "language_info": {
      "name": "python"
    }
  },
  "cells": [
    {
      "cell_type": "markdown",
      "metadata": {
        "id": "view-in-github",
        "colab_type": "text"
      },
      "source": [
        "<a href=\"https://colab.research.google.com/github/moustafa123/teacher-assistant-chatbot/blob/main/TeacherAssistantBloomTraining.ipynb\" target=\"_parent\"><img src=\"https://colab.research.google.com/assets/colab-badge.svg\" alt=\"Open In Colab\"/></a>"
      ]
    },
    {
      "cell_type": "code",
      "execution_count": null,
      "metadata": {
        "id": "YUQzuQWlfTuj"
      },
      "outputs": [],
      "source": [
        "!pip install transformers==4.30\n",
        "!pip install accelerate -U\n",
        "!pip install datasets"
      ]
    },
    {
      "cell_type": "code",
      "source": [
        "import pandas as pd\n",
        "import torch\n",
        "import json\n",
        "from transformers import BloomTokenizerFast, BloomForCausalLM, TrainingArguments, Trainer\n",
        "from datasets import load_dataset\n",
        "from accelerate import Accelerator"
      ],
      "metadata": {
        "id": "ZSW3sBN_fdMV"
      },
      "execution_count": null,
      "outputs": []
    },
    {
      "cell_type": "code",
      "source": [
        "# Get the tokenizer and model from bloomz-560m\n",
        "tokenizer = BloomTokenizerFast.from_pretrained(\"bigscience/bloomz-560m\")\n",
        "model = BloomForCausalLM.from_pretrained(\"bigscience/bloomz-560m\").to(\"cuda\")"
      ],
      "metadata": {
        "id": "k-zeg7aVflkG"
      },
      "execution_count": null,
      "outputs": []
    },
    {
      "cell_type": "code",
      "source": [
        "# Load json prompt dataset\n",
        "dataset = load_dataset(\"json\", data_files=\"prompts.json\")"
      ],
      "metadata": {
        "id": "WzHElCjxfmEi"
      },
      "execution_count": null,
      "outputs": []
    },
    {
      "cell_type": "code",
      "source": [
        "# Print dataset\n",
        "dataset"
      ],
      "metadata": {
        "id": "2GnPdZpKfn2N"
      },
      "execution_count": null,
      "outputs": []
    },
    {
      "cell_type": "code",
      "source": [
        "# Function to prepare the training data\n",
        "def prepare_train_data(data):\n",
        "    # prompt + completion\n",
        "    #text_input = data['prompt'] + ' ' + data['completion']\n",
        "    text_input = data['text']\n",
        "    # tokenize the input (prompt + completion) text\n",
        "    tokenized_input = tokenizer(text_input, return_tensors='pt', padding=True)\n",
        "    # generative models: labels are the same as the input\n",
        "    tokenized_input['labels'] = tokenized_input['input_ids']\n",
        "    return tokenized_input"
      ],
      "metadata": {
        "id": "-lANaEItftqa"
      },
      "execution_count": null,
      "outputs": []
    },
    {
      "cell_type": "code",
      "source": [
        "# Create train entries in dataset\n",
        "train_dataset = dataset['train'].map(prepare_train_data, batched=True, remove_columns=[\"text\"])"
      ],
      "metadata": {
        "id": "DSgfrHd7fvjx"
      },
      "execution_count": null,
      "outputs": []
    },
    {
      "cell_type": "code",
      "source": [
        "# Print train dataset\n",
        "train_dataset"
      ],
      "metadata": {
        "id": "feRV0BFBfyAh"
      },
      "execution_count": null,
      "outputs": []
    },
    {
      "cell_type": "code",
      "source": [
        "import pandas as pd\n",
        "import torch\n",
        "import json\n",
        "from transformers import BloomTokenizerFast, BloomForCausalLM, TrainingArguments, Trainer\n",
        "from datasets import load_dataset\n",
        "from accelerate import Accelerator"
      ],
      "metadata": {
        "id": "VS-NSEr-fz-l"
      },
      "execution_count": null,
      "outputs": []
    },
    {
      "cell_type": "code",
      "source": [
        "# Create the Training Arguments\n",
        "training_arguments = TrainingArguments(\n",
        "    'LegalQA-bloom-560m-dev',\n",
        "    learning_rate=2e-5,\n",
        "    per_device_train_batch_size=2,\n",
        "    num_train_epochs=2,\n",
        "    weight_decay=0.01,\n",
        "    fp16=True,\n",
        "    optim=\"adafactor\",\n",
        "    gradient_accumulation_steps=4,\n",
        "    gradient_checkpointing=True\n",
        ")"
      ],
      "metadata": {
        "id": "kjQyd3ipgEvy"
      },
      "execution_count": null,
      "outputs": []
    },
    {
      "cell_type": "code",
      "source": [
        "# Create the trainer based on the Training Arguments\n",
        "trainer = Trainer(\n",
        "    model = model,\n",
        "    args = training_arguments,\n",
        "    train_dataset = train_dataset\n",
        ")"
      ],
      "metadata": {
        "id": "8bIrETSsgHjl"
      },
      "execution_count": null,
      "outputs": []
    },
    {
      "cell_type": "code",
      "source": [
        "# Train the model on the dataset\n",
        "trainer.train()"
      ],
      "metadata": {
        "id": "A-Eq_uQTgJUn"
      },
      "execution_count": null,
      "outputs": []
    },
    {
      "cell_type": "code",
      "source": [
        "# Save a local copy of the model to be used in the future\n",
        "trainer.save_model()"
      ],
      "metadata": {
        "id": "2i5PLKfJgKiJ"
      },
      "execution_count": null,
      "outputs": []
    }
  ]
}