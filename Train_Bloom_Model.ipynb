{
  "nbformat": 4,
  "nbformat_minor": 0,
  "metadata": {
    "colab": {
      "provenance": [],
      "gpuType": "T4",
      "include_colab_link": true
    },
    "kernelspec": {
      "name": "python3",
      "display_name": "Python 3"
    },
    "language_info": {
      "name": "python"
    },
    "accelerator": "GPU",
    "widgets": {
      "application/vnd.jupyter.widget-state+json": {
        "1ee2a078bcf045baa47f80b37a1763ec": {
          "model_module": "@jupyter-widgets/controls",
          "model_name": "HBoxModel",
          "model_module_version": "1.5.0",
          "state": {
            "_dom_classes": [],
            "_model_module": "@jupyter-widgets/controls",
            "_model_module_version": "1.5.0",
            "_model_name": "HBoxModel",
            "_view_count": null,
            "_view_module": "@jupyter-widgets/controls",
            "_view_module_version": "1.5.0",
            "_view_name": "HBoxView",
            "box_style": "",
            "children": [
              "IPY_MODEL_8b5be69c060f46b08f80025e80f191d1",
              "IPY_MODEL_1b3baf382ece447bac391a6477169bc0",
              "IPY_MODEL_58113a2952634518bc1f24b91f7b2d5a"
            ],
            "layout": "IPY_MODEL_609c4dff2b7f4e38abfa74586fa4a183"
          }
        },
        "8b5be69c060f46b08f80025e80f191d1": {
          "model_module": "@jupyter-widgets/controls",
          "model_name": "HTMLModel",
          "model_module_version": "1.5.0",
          "state": {
            "_dom_classes": [],
            "_model_module": "@jupyter-widgets/controls",
            "_model_module_version": "1.5.0",
            "_model_name": "HTMLModel",
            "_view_count": null,
            "_view_module": "@jupyter-widgets/controls",
            "_view_module_version": "1.5.0",
            "_view_name": "HTMLView",
            "description": "",
            "description_tooltip": null,
            "layout": "IPY_MODEL_b30871a25c4a45c7bab02fdd8c76cfc4",
            "placeholder": "​",
            "style": "IPY_MODEL_02dfc7d7ede7467b9cca4f68db66b79b",
            "value": "Generating train split: "
          }
        },
        "1b3baf382ece447bac391a6477169bc0": {
          "model_module": "@jupyter-widgets/controls",
          "model_name": "FloatProgressModel",
          "model_module_version": "1.5.0",
          "state": {
            "_dom_classes": [],
            "_model_module": "@jupyter-widgets/controls",
            "_model_module_version": "1.5.0",
            "_model_name": "FloatProgressModel",
            "_view_count": null,
            "_view_module": "@jupyter-widgets/controls",
            "_view_module_version": "1.5.0",
            "_view_name": "ProgressView",
            "bar_style": "success",
            "description": "",
            "description_tooltip": null,
            "layout": "IPY_MODEL_02d529bb2e0c44c9a34ef9d4fc261d7d",
            "max": 1,
            "min": 0,
            "orientation": "horizontal",
            "style": "IPY_MODEL_63a8eced56484487a371e51ea38954fb",
            "value": 1
          }
        },
        "58113a2952634518bc1f24b91f7b2d5a": {
          "model_module": "@jupyter-widgets/controls",
          "model_name": "HTMLModel",
          "model_module_version": "1.5.0",
          "state": {
            "_dom_classes": [],
            "_model_module": "@jupyter-widgets/controls",
            "_model_module_version": "1.5.0",
            "_model_name": "HTMLModel",
            "_view_count": null,
            "_view_module": "@jupyter-widgets/controls",
            "_view_module_version": "1.5.0",
            "_view_name": "HTMLView",
            "description": "",
            "description_tooltip": null,
            "layout": "IPY_MODEL_bfd7382ee31c4612b75ace55adc60dae",
            "placeholder": "​",
            "style": "IPY_MODEL_febc2333a2ba421ebb0ec8c0ac56cb45",
            "value": " 4/0 [00:00&lt;00:00, 73.37 examples/s]"
          }
        },
        "609c4dff2b7f4e38abfa74586fa4a183": {
          "model_module": "@jupyter-widgets/base",
          "model_name": "LayoutModel",
          "model_module_version": "1.2.0",
          "state": {
            "_model_module": "@jupyter-widgets/base",
            "_model_module_version": "1.2.0",
            "_model_name": "LayoutModel",
            "_view_count": null,
            "_view_module": "@jupyter-widgets/base",
            "_view_module_version": "1.2.0",
            "_view_name": "LayoutView",
            "align_content": null,
            "align_items": null,
            "align_self": null,
            "border": null,
            "bottom": null,
            "display": null,
            "flex": null,
            "flex_flow": null,
            "grid_area": null,
            "grid_auto_columns": null,
            "grid_auto_flow": null,
            "grid_auto_rows": null,
            "grid_column": null,
            "grid_gap": null,
            "grid_row": null,
            "grid_template_areas": null,
            "grid_template_columns": null,
            "grid_template_rows": null,
            "height": null,
            "justify_content": null,
            "justify_items": null,
            "left": null,
            "margin": null,
            "max_height": null,
            "max_width": null,
            "min_height": null,
            "min_width": null,
            "object_fit": null,
            "object_position": null,
            "order": null,
            "overflow": null,
            "overflow_x": null,
            "overflow_y": null,
            "padding": null,
            "right": null,
            "top": null,
            "visibility": null,
            "width": null
          }
        },
        "b30871a25c4a45c7bab02fdd8c76cfc4": {
          "model_module": "@jupyter-widgets/base",
          "model_name": "LayoutModel",
          "model_module_version": "1.2.0",
          "state": {
            "_model_module": "@jupyter-widgets/base",
            "_model_module_version": "1.2.0",
            "_model_name": "LayoutModel",
            "_view_count": null,
            "_view_module": "@jupyter-widgets/base",
            "_view_module_version": "1.2.0",
            "_view_name": "LayoutView",
            "align_content": null,
            "align_items": null,
            "align_self": null,
            "border": null,
            "bottom": null,
            "display": null,
            "flex": null,
            "flex_flow": null,
            "grid_area": null,
            "grid_auto_columns": null,
            "grid_auto_flow": null,
            "grid_auto_rows": null,
            "grid_column": null,
            "grid_gap": null,
            "grid_row": null,
            "grid_template_areas": null,
            "grid_template_columns": null,
            "grid_template_rows": null,
            "height": null,
            "justify_content": null,
            "justify_items": null,
            "left": null,
            "margin": null,
            "max_height": null,
            "max_width": null,
            "min_height": null,
            "min_width": null,
            "object_fit": null,
            "object_position": null,
            "order": null,
            "overflow": null,
            "overflow_x": null,
            "overflow_y": null,
            "padding": null,
            "right": null,
            "top": null,
            "visibility": null,
            "width": null
          }
        },
        "02dfc7d7ede7467b9cca4f68db66b79b": {
          "model_module": "@jupyter-widgets/controls",
          "model_name": "DescriptionStyleModel",
          "model_module_version": "1.5.0",
          "state": {
            "_model_module": "@jupyter-widgets/controls",
            "_model_module_version": "1.5.0",
            "_model_name": "DescriptionStyleModel",
            "_view_count": null,
            "_view_module": "@jupyter-widgets/base",
            "_view_module_version": "1.2.0",
            "_view_name": "StyleView",
            "description_width": ""
          }
        },
        "02d529bb2e0c44c9a34ef9d4fc261d7d": {
          "model_module": "@jupyter-widgets/base",
          "model_name": "LayoutModel",
          "model_module_version": "1.2.0",
          "state": {
            "_model_module": "@jupyter-widgets/base",
            "_model_module_version": "1.2.0",
            "_model_name": "LayoutModel",
            "_view_count": null,
            "_view_module": "@jupyter-widgets/base",
            "_view_module_version": "1.2.0",
            "_view_name": "LayoutView",
            "align_content": null,
            "align_items": null,
            "align_self": null,
            "border": null,
            "bottom": null,
            "display": null,
            "flex": null,
            "flex_flow": null,
            "grid_area": null,
            "grid_auto_columns": null,
            "grid_auto_flow": null,
            "grid_auto_rows": null,
            "grid_column": null,
            "grid_gap": null,
            "grid_row": null,
            "grid_template_areas": null,
            "grid_template_columns": null,
            "grid_template_rows": null,
            "height": null,
            "justify_content": null,
            "justify_items": null,
            "left": null,
            "margin": null,
            "max_height": null,
            "max_width": null,
            "min_height": null,
            "min_width": null,
            "object_fit": null,
            "object_position": null,
            "order": null,
            "overflow": null,
            "overflow_x": null,
            "overflow_y": null,
            "padding": null,
            "right": null,
            "top": null,
            "visibility": null,
            "width": "20px"
          }
        },
        "63a8eced56484487a371e51ea38954fb": {
          "model_module": "@jupyter-widgets/controls",
          "model_name": "ProgressStyleModel",
          "model_module_version": "1.5.0",
          "state": {
            "_model_module": "@jupyter-widgets/controls",
            "_model_module_version": "1.5.0",
            "_model_name": "ProgressStyleModel",
            "_view_count": null,
            "_view_module": "@jupyter-widgets/base",
            "_view_module_version": "1.2.0",
            "_view_name": "StyleView",
            "bar_color": null,
            "description_width": ""
          }
        },
        "bfd7382ee31c4612b75ace55adc60dae": {
          "model_module": "@jupyter-widgets/base",
          "model_name": "LayoutModel",
          "model_module_version": "1.2.0",
          "state": {
            "_model_module": "@jupyter-widgets/base",
            "_model_module_version": "1.2.0",
            "_model_name": "LayoutModel",
            "_view_count": null,
            "_view_module": "@jupyter-widgets/base",
            "_view_module_version": "1.2.0",
            "_view_name": "LayoutView",
            "align_content": null,
            "align_items": null,
            "align_self": null,
            "border": null,
            "bottom": null,
            "display": null,
            "flex": null,
            "flex_flow": null,
            "grid_area": null,
            "grid_auto_columns": null,
            "grid_auto_flow": null,
            "grid_auto_rows": null,
            "grid_column": null,
            "grid_gap": null,
            "grid_row": null,
            "grid_template_areas": null,
            "grid_template_columns": null,
            "grid_template_rows": null,
            "height": null,
            "justify_content": null,
            "justify_items": null,
            "left": null,
            "margin": null,
            "max_height": null,
            "max_width": null,
            "min_height": null,
            "min_width": null,
            "object_fit": null,
            "object_position": null,
            "order": null,
            "overflow": null,
            "overflow_x": null,
            "overflow_y": null,
            "padding": null,
            "right": null,
            "top": null,
            "visibility": null,
            "width": null
          }
        },
        "febc2333a2ba421ebb0ec8c0ac56cb45": {
          "model_module": "@jupyter-widgets/controls",
          "model_name": "DescriptionStyleModel",
          "model_module_version": "1.5.0",
          "state": {
            "_model_module": "@jupyter-widgets/controls",
            "_model_module_version": "1.5.0",
            "_model_name": "DescriptionStyleModel",
            "_view_count": null,
            "_view_module": "@jupyter-widgets/base",
            "_view_module_version": "1.2.0",
            "_view_name": "StyleView",
            "description_width": ""
          }
        },
        "6b8b098594c143ce83f51c8736aac5f2": {
          "model_module": "@jupyter-widgets/controls",
          "model_name": "HBoxModel",
          "model_module_version": "1.5.0",
          "state": {
            "_dom_classes": [],
            "_model_module": "@jupyter-widgets/controls",
            "_model_module_version": "1.5.0",
            "_model_name": "HBoxModel",
            "_view_count": null,
            "_view_module": "@jupyter-widgets/controls",
            "_view_module_version": "1.5.0",
            "_view_name": "HBoxView",
            "box_style": "",
            "children": [
              "IPY_MODEL_0cfdcf978e4644eaad72c3146a4d8ba1",
              "IPY_MODEL_2190ae81204d4afca6de87881471ec43",
              "IPY_MODEL_9ef5d62fae3740baaefa5d3e316bf093"
            ],
            "layout": "IPY_MODEL_7e695c08b4eb4f78aadfe81c89232457"
          }
        },
        "0cfdcf978e4644eaad72c3146a4d8ba1": {
          "model_module": "@jupyter-widgets/controls",
          "model_name": "HTMLModel",
          "model_module_version": "1.5.0",
          "state": {
            "_dom_classes": [],
            "_model_module": "@jupyter-widgets/controls",
            "_model_module_version": "1.5.0",
            "_model_name": "HTMLModel",
            "_view_count": null,
            "_view_module": "@jupyter-widgets/controls",
            "_view_module_version": "1.5.0",
            "_view_name": "HTMLView",
            "description": "",
            "description_tooltip": null,
            "layout": "IPY_MODEL_615bef9d4c8440dc956e701a45e1694b",
            "placeholder": "​",
            "style": "IPY_MODEL_4648f7ad0bfb462c8f6848e3c65cd954",
            "value": "Map: 100%"
          }
        },
        "2190ae81204d4afca6de87881471ec43": {
          "model_module": "@jupyter-widgets/controls",
          "model_name": "FloatProgressModel",
          "model_module_version": "1.5.0",
          "state": {
            "_dom_classes": [],
            "_model_module": "@jupyter-widgets/controls",
            "_model_module_version": "1.5.0",
            "_model_name": "FloatProgressModel",
            "_view_count": null,
            "_view_module": "@jupyter-widgets/controls",
            "_view_module_version": "1.5.0",
            "_view_name": "ProgressView",
            "bar_style": "success",
            "description": "",
            "description_tooltip": null,
            "layout": "IPY_MODEL_5393e537ae30435fa73c76b3be88a3a3",
            "max": 4,
            "min": 0,
            "orientation": "horizontal",
            "style": "IPY_MODEL_dc36aa14b8504eb4bedbc010428da4db",
            "value": 4
          }
        },
        "9ef5d62fae3740baaefa5d3e316bf093": {
          "model_module": "@jupyter-widgets/controls",
          "model_name": "HTMLModel",
          "model_module_version": "1.5.0",
          "state": {
            "_dom_classes": [],
            "_model_module": "@jupyter-widgets/controls",
            "_model_module_version": "1.5.0",
            "_model_name": "HTMLModel",
            "_view_count": null,
            "_view_module": "@jupyter-widgets/controls",
            "_view_module_version": "1.5.0",
            "_view_name": "HTMLView",
            "description": "",
            "description_tooltip": null,
            "layout": "IPY_MODEL_d7a38193a23b446e8cd6f7865189be4f",
            "placeholder": "​",
            "style": "IPY_MODEL_98ce980a1b1547c795c3e352b672dcea",
            "value": " 4/4 [00:00&lt;00:00, 74.90 examples/s]"
          }
        },
        "7e695c08b4eb4f78aadfe81c89232457": {
          "model_module": "@jupyter-widgets/base",
          "model_name": "LayoutModel",
          "model_module_version": "1.2.0",
          "state": {
            "_model_module": "@jupyter-widgets/base",
            "_model_module_version": "1.2.0",
            "_model_name": "LayoutModel",
            "_view_count": null,
            "_view_module": "@jupyter-widgets/base",
            "_view_module_version": "1.2.0",
            "_view_name": "LayoutView",
            "align_content": null,
            "align_items": null,
            "align_self": null,
            "border": null,
            "bottom": null,
            "display": null,
            "flex": null,
            "flex_flow": null,
            "grid_area": null,
            "grid_auto_columns": null,
            "grid_auto_flow": null,
            "grid_auto_rows": null,
            "grid_column": null,
            "grid_gap": null,
            "grid_row": null,
            "grid_template_areas": null,
            "grid_template_columns": null,
            "grid_template_rows": null,
            "height": null,
            "justify_content": null,
            "justify_items": null,
            "left": null,
            "margin": null,
            "max_height": null,
            "max_width": null,
            "min_height": null,
            "min_width": null,
            "object_fit": null,
            "object_position": null,
            "order": null,
            "overflow": null,
            "overflow_x": null,
            "overflow_y": null,
            "padding": null,
            "right": null,
            "top": null,
            "visibility": null,
            "width": null
          }
        },
        "615bef9d4c8440dc956e701a45e1694b": {
          "model_module": "@jupyter-widgets/base",
          "model_name": "LayoutModel",
          "model_module_version": "1.2.0",
          "state": {
            "_model_module": "@jupyter-widgets/base",
            "_model_module_version": "1.2.0",
            "_model_name": "LayoutModel",
            "_view_count": null,
            "_view_module": "@jupyter-widgets/base",
            "_view_module_version": "1.2.0",
            "_view_name": "LayoutView",
            "align_content": null,
            "align_items": null,
            "align_self": null,
            "border": null,
            "bottom": null,
            "display": null,
            "flex": null,
            "flex_flow": null,
            "grid_area": null,
            "grid_auto_columns": null,
            "grid_auto_flow": null,
            "grid_auto_rows": null,
            "grid_column": null,
            "grid_gap": null,
            "grid_row": null,
            "grid_template_areas": null,
            "grid_template_columns": null,
            "grid_template_rows": null,
            "height": null,
            "justify_content": null,
            "justify_items": null,
            "left": null,
            "margin": null,
            "max_height": null,
            "max_width": null,
            "min_height": null,
            "min_width": null,
            "object_fit": null,
            "object_position": null,
            "order": null,
            "overflow": null,
            "overflow_x": null,
            "overflow_y": null,
            "padding": null,
            "right": null,
            "top": null,
            "visibility": null,
            "width": null
          }
        },
        "4648f7ad0bfb462c8f6848e3c65cd954": {
          "model_module": "@jupyter-widgets/controls",
          "model_name": "DescriptionStyleModel",
          "model_module_version": "1.5.0",
          "state": {
            "_model_module": "@jupyter-widgets/controls",
            "_model_module_version": "1.5.0",
            "_model_name": "DescriptionStyleModel",
            "_view_count": null,
            "_view_module": "@jupyter-widgets/base",
            "_view_module_version": "1.2.0",
            "_view_name": "StyleView",
            "description_width": ""
          }
        },
        "5393e537ae30435fa73c76b3be88a3a3": {
          "model_module": "@jupyter-widgets/base",
          "model_name": "LayoutModel",
          "model_module_version": "1.2.0",
          "state": {
            "_model_module": "@jupyter-widgets/base",
            "_model_module_version": "1.2.0",
            "_model_name": "LayoutModel",
            "_view_count": null,
            "_view_module": "@jupyter-widgets/base",
            "_view_module_version": "1.2.0",
            "_view_name": "LayoutView",
            "align_content": null,
            "align_items": null,
            "align_self": null,
            "border": null,
            "bottom": null,
            "display": null,
            "flex": null,
            "flex_flow": null,
            "grid_area": null,
            "grid_auto_columns": null,
            "grid_auto_flow": null,
            "grid_auto_rows": null,
            "grid_column": null,
            "grid_gap": null,
            "grid_row": null,
            "grid_template_areas": null,
            "grid_template_columns": null,
            "grid_template_rows": null,
            "height": null,
            "justify_content": null,
            "justify_items": null,
            "left": null,
            "margin": null,
            "max_height": null,
            "max_width": null,
            "min_height": null,
            "min_width": null,
            "object_fit": null,
            "object_position": null,
            "order": null,
            "overflow": null,
            "overflow_x": null,
            "overflow_y": null,
            "padding": null,
            "right": null,
            "top": null,
            "visibility": null,
            "width": null
          }
        },
        "dc36aa14b8504eb4bedbc010428da4db": {
          "model_module": "@jupyter-widgets/controls",
          "model_name": "ProgressStyleModel",
          "model_module_version": "1.5.0",
          "state": {
            "_model_module": "@jupyter-widgets/controls",
            "_model_module_version": "1.5.0",
            "_model_name": "ProgressStyleModel",
            "_view_count": null,
            "_view_module": "@jupyter-widgets/base",
            "_view_module_version": "1.2.0",
            "_view_name": "StyleView",
            "bar_color": null,
            "description_width": ""
          }
        },
        "d7a38193a23b446e8cd6f7865189be4f": {
          "model_module": "@jupyter-widgets/base",
          "model_name": "LayoutModel",
          "model_module_version": "1.2.0",
          "state": {
            "_model_module": "@jupyter-widgets/base",
            "_model_module_version": "1.2.0",
            "_model_name": "LayoutModel",
            "_view_count": null,
            "_view_module": "@jupyter-widgets/base",
            "_view_module_version": "1.2.0",
            "_view_name": "LayoutView",
            "align_content": null,
            "align_items": null,
            "align_self": null,
            "border": null,
            "bottom": null,
            "display": null,
            "flex": null,
            "flex_flow": null,
            "grid_area": null,
            "grid_auto_columns": null,
            "grid_auto_flow": null,
            "grid_auto_rows": null,
            "grid_column": null,
            "grid_gap": null,
            "grid_row": null,
            "grid_template_areas": null,
            "grid_template_columns": null,
            "grid_template_rows": null,
            "height": null,
            "justify_content": null,
            "justify_items": null,
            "left": null,
            "margin": null,
            "max_height": null,
            "max_width": null,
            "min_height": null,
            "min_width": null,
            "object_fit": null,
            "object_position": null,
            "order": null,
            "overflow": null,
            "overflow_x": null,
            "overflow_y": null,
            "padding": null,
            "right": null,
            "top": null,
            "visibility": null,
            "width": null
          }
        },
        "98ce980a1b1547c795c3e352b672dcea": {
          "model_module": "@jupyter-widgets/controls",
          "model_name": "DescriptionStyleModel",
          "model_module_version": "1.5.0",
          "state": {
            "_model_module": "@jupyter-widgets/controls",
            "_model_module_version": "1.5.0",
            "_model_name": "DescriptionStyleModel",
            "_view_count": null,
            "_view_module": "@jupyter-widgets/base",
            "_view_module_version": "1.2.0",
            "_view_name": "StyleView",
            "description_width": ""
          }
        }
      }
    }
  },
  "cells": [
    {
      "cell_type": "markdown",
      "metadata": {
        "id": "view-in-github",
        "colab_type": "text"
      },
      "source": [
        "<a href=\"https://colab.research.google.com/github/moustafa123/teacher-assistant-chatbot/blob/main/Train_Bloom_Model.ipynb\" target=\"_parent\"><img src=\"https://colab.research.google.com/assets/colab-badge.svg\" alt=\"Open In Colab\"/></a>"
      ]
    },
    {
      "cell_type": "code",
      "source": [
        "import pandas as pd\n",
        "import json"
      ],
      "metadata": {
        "id": "b9RvXdwjswui"
      },
      "execution_count": null,
      "outputs": []
    },
    {
      "cell_type": "code",
      "source": [
        "pd.set_option('display.max_rows', None)\n",
        "pd.set_option('display.max_columns', None)\n",
        "pd.set_option('display.width', None)\n",
        "pd.set_option('display.max_colwidth', None)"
      ],
      "metadata": {
        "id": "Ai4Ugo1PN1fl"
      },
      "execution_count": null,
      "outputs": []
    },
    {
      "cell_type": "code",
      "source": [
        "# CSI 5180 Dataset Generated\n",
        "dataset = pd.read_csv(\"/content/sample_data/VA-Questions-Answers-Rev - Sheet1.csv\")"
      ],
      "metadata": {
        "id": "nN5tekzxP79P"
      },
      "execution_count": null,
      "outputs": []
    },
    {
      "cell_type": "code",
      "source": [
        "dataset.dropna()\n",
        "dataset.shape"
      ],
      "metadata": {
        "colab": {
          "base_uri": "https://localhost:8080/"
        },
        "id": "aqHId1DPQIEQ",
        "outputId": "e256d217-7ff2-4b58-b120-8cffa7b1df0d"
      },
      "execution_count": null,
      "outputs": [
        {
          "output_type": "execute_result",
          "data": {
            "text/plain": [
              "(42, 2)"
            ]
          },
          "metadata": {},
          "execution_count": 4
        }
      ]
    },
    {
      "cell_type": "code",
      "source": [
        "dataset.shape"
      ],
      "metadata": {
        "colab": {
          "base_uri": "https://localhost:8080/"
        },
        "id": "SezTRF_lQBmz",
        "outputId": "dea60087-7fb9-4403-f3fc-34c53a6abc42"
      },
      "execution_count": null,
      "outputs": [
        {
          "output_type": "execute_result",
          "data": {
            "text/plain": [
              "(42, 2)"
            ]
          },
          "metadata": {},
          "execution_count": 5
        }
      ]
    },
    {
      "cell_type": "code",
      "source": [
        "# Print Dataset Head\n",
        "dataset.head()"
      ],
      "metadata": {
        "colab": {
          "base_uri": "https://localhost:8080/",
          "height": 345
        },
        "id": "mP1ZGr-2QLqg",
        "outputId": "8ee5eafa-f92d-43dc-8d5a-2a6a37ebd183"
      },
      "execution_count": null,
      "outputs": [
        {
          "output_type": "execute_result",
          "data": {
            "text/plain": [
              "                                  question  \\\n",
              "0         What is Artificial Intelligence?   \n",
              "1                What is Machine Learning?   \n",
              "2                   What is Deep Learning?   \n",
              "3  What are the types of Machine Learning?   \n",
              "4     What is supervised Machine Learning?   \n",
              "\n",
              "                                                                                                                                                               answer  \n",
              "0                   Artificial Intelligence (AI) refers to the development of computer systems capable of performing tasks that typically require human intelligence.  \n",
              "1                                                                                                  Machine Learning (ML) is a subset of artificial intelligence (AI).  \n",
              "2  Deep learning is a subset of machine learning that focuses on the development and training of artificial neural networks with many layers (hence the term \"deep\").  \n",
              "3                Machine learning can be broadly categorized into three main types, based on the nature of the learning process and the availability of labeled data.  \n",
              "4                                                             Supervised machine learning is a type of machine learning where the algorithm learns from labeled data.  "
            ],
            "text/html": [
              "\n",
              "  <div id=\"df-8cd6455e-e61c-4c14-9f5b-1dc63473406c\" class=\"colab-df-container\">\n",
              "    <div>\n",
              "<style scoped>\n",
              "    .dataframe tbody tr th:only-of-type {\n",
              "        vertical-align: middle;\n",
              "    }\n",
              "\n",
              "    .dataframe tbody tr th {\n",
              "        vertical-align: top;\n",
              "    }\n",
              "\n",
              "    .dataframe thead th {\n",
              "        text-align: right;\n",
              "    }\n",
              "</style>\n",
              "<table border=\"1\" class=\"dataframe\">\n",
              "  <thead>\n",
              "    <tr style=\"text-align: right;\">\n",
              "      <th></th>\n",
              "      <th>question</th>\n",
              "      <th>answer</th>\n",
              "    </tr>\n",
              "  </thead>\n",
              "  <tbody>\n",
              "    <tr>\n",
              "      <th>0</th>\n",
              "      <td>What is Artificial Intelligence?</td>\n",
              "      <td>Artificial Intelligence (AI) refers to the development of computer systems capable of performing tasks that typically require human intelligence.</td>\n",
              "    </tr>\n",
              "    <tr>\n",
              "      <th>1</th>\n",
              "      <td>What is Machine Learning?</td>\n",
              "      <td>Machine Learning (ML) is a subset of artificial intelligence (AI).</td>\n",
              "    </tr>\n",
              "    <tr>\n",
              "      <th>2</th>\n",
              "      <td>What is Deep Learning?</td>\n",
              "      <td>Deep learning is a subset of machine learning that focuses on the development and training of artificial neural networks with many layers (hence the term \"deep\").</td>\n",
              "    </tr>\n",
              "    <tr>\n",
              "      <th>3</th>\n",
              "      <td>What are the types of Machine Learning?</td>\n",
              "      <td>Machine learning can be broadly categorized into three main types, based on the nature of the learning process and the availability of labeled data.</td>\n",
              "    </tr>\n",
              "    <tr>\n",
              "      <th>4</th>\n",
              "      <td>What is supervised Machine Learning?</td>\n",
              "      <td>Supervised machine learning is a type of machine learning where the algorithm learns from labeled data.</td>\n",
              "    </tr>\n",
              "  </tbody>\n",
              "</table>\n",
              "</div>\n",
              "    <div class=\"colab-df-buttons\">\n",
              "\n",
              "  <div class=\"colab-df-container\">\n",
              "    <button class=\"colab-df-convert\" onclick=\"convertToInteractive('df-8cd6455e-e61c-4c14-9f5b-1dc63473406c')\"\n",
              "            title=\"Convert this dataframe to an interactive table.\"\n",
              "            style=\"display:none;\">\n",
              "\n",
              "  <svg xmlns=\"http://www.w3.org/2000/svg\" height=\"24px\" viewBox=\"0 -960 960 960\">\n",
              "    <path d=\"M120-120v-720h720v720H120Zm60-500h600v-160H180v160Zm220 220h160v-160H400v160Zm0 220h160v-160H400v160ZM180-400h160v-160H180v160Zm440 0h160v-160H620v160ZM180-180h160v-160H180v160Zm440 0h160v-160H620v160Z\"/>\n",
              "  </svg>\n",
              "    </button>\n",
              "\n",
              "  <style>\n",
              "    .colab-df-container {\n",
              "      display:flex;\n",
              "      gap: 12px;\n",
              "    }\n",
              "\n",
              "    .colab-df-convert {\n",
              "      background-color: #E8F0FE;\n",
              "      border: none;\n",
              "      border-radius: 50%;\n",
              "      cursor: pointer;\n",
              "      display: none;\n",
              "      fill: #1967D2;\n",
              "      height: 32px;\n",
              "      padding: 0 0 0 0;\n",
              "      width: 32px;\n",
              "    }\n",
              "\n",
              "    .colab-df-convert:hover {\n",
              "      background-color: #E2EBFA;\n",
              "      box-shadow: 0px 1px 2px rgba(60, 64, 67, 0.3), 0px 1px 3px 1px rgba(60, 64, 67, 0.15);\n",
              "      fill: #174EA6;\n",
              "    }\n",
              "\n",
              "    .colab-df-buttons div {\n",
              "      margin-bottom: 4px;\n",
              "    }\n",
              "\n",
              "    [theme=dark] .colab-df-convert {\n",
              "      background-color: #3B4455;\n",
              "      fill: #D2E3FC;\n",
              "    }\n",
              "\n",
              "    [theme=dark] .colab-df-convert:hover {\n",
              "      background-color: #434B5C;\n",
              "      box-shadow: 0px 1px 3px 1px rgba(0, 0, 0, 0.15);\n",
              "      filter: drop-shadow(0px 1px 2px rgba(0, 0, 0, 0.3));\n",
              "      fill: #FFFFFF;\n",
              "    }\n",
              "  </style>\n",
              "\n",
              "    <script>\n",
              "      const buttonEl =\n",
              "        document.querySelector('#df-8cd6455e-e61c-4c14-9f5b-1dc63473406c button.colab-df-convert');\n",
              "      buttonEl.style.display =\n",
              "        google.colab.kernel.accessAllowed ? 'block' : 'none';\n",
              "\n",
              "      async function convertToInteractive(key) {\n",
              "        const element = document.querySelector('#df-8cd6455e-e61c-4c14-9f5b-1dc63473406c');\n",
              "        const dataTable =\n",
              "          await google.colab.kernel.invokeFunction('convertToInteractive',\n",
              "                                                    [key], {});\n",
              "        if (!dataTable) return;\n",
              "\n",
              "        const docLinkHtml = 'Like what you see? Visit the ' +\n",
              "          '<a target=\"_blank\" href=https://colab.research.google.com/notebooks/data_table.ipynb>data table notebook</a>'\n",
              "          + ' to learn more about interactive tables.';\n",
              "        element.innerHTML = '';\n",
              "        dataTable['output_type'] = 'display_data';\n",
              "        await google.colab.output.renderOutput(dataTable, element);\n",
              "        const docLink = document.createElement('div');\n",
              "        docLink.innerHTML = docLinkHtml;\n",
              "        element.appendChild(docLink);\n",
              "      }\n",
              "    </script>\n",
              "  </div>\n",
              "\n",
              "\n",
              "<div id=\"df-a48417c4-5a13-4afc-832e-32b5c9e807de\">\n",
              "  <button class=\"colab-df-quickchart\" onclick=\"quickchart('df-a48417c4-5a13-4afc-832e-32b5c9e807de')\"\n",
              "            title=\"Suggest charts\"\n",
              "            style=\"display:none;\">\n",
              "\n",
              "<svg xmlns=\"http://www.w3.org/2000/svg\" height=\"24px\"viewBox=\"0 0 24 24\"\n",
              "     width=\"24px\">\n",
              "    <g>\n",
              "        <path d=\"M19 3H5c-1.1 0-2 .9-2 2v14c0 1.1.9 2 2 2h14c1.1 0 2-.9 2-2V5c0-1.1-.9-2-2-2zM9 17H7v-7h2v7zm4 0h-2V7h2v10zm4 0h-2v-4h2v4z\"/>\n",
              "    </g>\n",
              "</svg>\n",
              "  </button>\n",
              "\n",
              "<style>\n",
              "  .colab-df-quickchart {\n",
              "      --bg-color: #E8F0FE;\n",
              "      --fill-color: #1967D2;\n",
              "      --hover-bg-color: #E2EBFA;\n",
              "      --hover-fill-color: #174EA6;\n",
              "      --disabled-fill-color: #AAA;\n",
              "      --disabled-bg-color: #DDD;\n",
              "  }\n",
              "\n",
              "  [theme=dark] .colab-df-quickchart {\n",
              "      --bg-color: #3B4455;\n",
              "      --fill-color: #D2E3FC;\n",
              "      --hover-bg-color: #434B5C;\n",
              "      --hover-fill-color: #FFFFFF;\n",
              "      --disabled-bg-color: #3B4455;\n",
              "      --disabled-fill-color: #666;\n",
              "  }\n",
              "\n",
              "  .colab-df-quickchart {\n",
              "    background-color: var(--bg-color);\n",
              "    border: none;\n",
              "    border-radius: 50%;\n",
              "    cursor: pointer;\n",
              "    display: none;\n",
              "    fill: var(--fill-color);\n",
              "    height: 32px;\n",
              "    padding: 0;\n",
              "    width: 32px;\n",
              "  }\n",
              "\n",
              "  .colab-df-quickchart:hover {\n",
              "    background-color: var(--hover-bg-color);\n",
              "    box-shadow: 0 1px 2px rgba(60, 64, 67, 0.3), 0 1px 3px 1px rgba(60, 64, 67, 0.15);\n",
              "    fill: var(--button-hover-fill-color);\n",
              "  }\n",
              "\n",
              "  .colab-df-quickchart-complete:disabled,\n",
              "  .colab-df-quickchart-complete:disabled:hover {\n",
              "    background-color: var(--disabled-bg-color);\n",
              "    fill: var(--disabled-fill-color);\n",
              "    box-shadow: none;\n",
              "  }\n",
              "\n",
              "  .colab-df-spinner {\n",
              "    border: 2px solid var(--fill-color);\n",
              "    border-color: transparent;\n",
              "    border-bottom-color: var(--fill-color);\n",
              "    animation:\n",
              "      spin 1s steps(1) infinite;\n",
              "  }\n",
              "\n",
              "  @keyframes spin {\n",
              "    0% {\n",
              "      border-color: transparent;\n",
              "      border-bottom-color: var(--fill-color);\n",
              "      border-left-color: var(--fill-color);\n",
              "    }\n",
              "    20% {\n",
              "      border-color: transparent;\n",
              "      border-left-color: var(--fill-color);\n",
              "      border-top-color: var(--fill-color);\n",
              "    }\n",
              "    30% {\n",
              "      border-color: transparent;\n",
              "      border-left-color: var(--fill-color);\n",
              "      border-top-color: var(--fill-color);\n",
              "      border-right-color: var(--fill-color);\n",
              "    }\n",
              "    40% {\n",
              "      border-color: transparent;\n",
              "      border-right-color: var(--fill-color);\n",
              "      border-top-color: var(--fill-color);\n",
              "    }\n",
              "    60% {\n",
              "      border-color: transparent;\n",
              "      border-right-color: var(--fill-color);\n",
              "    }\n",
              "    80% {\n",
              "      border-color: transparent;\n",
              "      border-right-color: var(--fill-color);\n",
              "      border-bottom-color: var(--fill-color);\n",
              "    }\n",
              "    90% {\n",
              "      border-color: transparent;\n",
              "      border-bottom-color: var(--fill-color);\n",
              "    }\n",
              "  }\n",
              "</style>\n",
              "\n",
              "  <script>\n",
              "    async function quickchart(key) {\n",
              "      const quickchartButtonEl =\n",
              "        document.querySelector('#' + key + ' button');\n",
              "      quickchartButtonEl.disabled = true;  // To prevent multiple clicks.\n",
              "      quickchartButtonEl.classList.add('colab-df-spinner');\n",
              "      try {\n",
              "        const charts = await google.colab.kernel.invokeFunction(\n",
              "            'suggestCharts', [key], {});\n",
              "      } catch (error) {\n",
              "        console.error('Error during call to suggestCharts:', error);\n",
              "      }\n",
              "      quickchartButtonEl.classList.remove('colab-df-spinner');\n",
              "      quickchartButtonEl.classList.add('colab-df-quickchart-complete');\n",
              "    }\n",
              "    (() => {\n",
              "      let quickchartButtonEl =\n",
              "        document.querySelector('#df-a48417c4-5a13-4afc-832e-32b5c9e807de button');\n",
              "      quickchartButtonEl.style.display =\n",
              "        google.colab.kernel.accessAllowed ? 'block' : 'none';\n",
              "    })();\n",
              "  </script>\n",
              "</div>\n",
              "\n",
              "    </div>\n",
              "  </div>\n"
            ],
            "application/vnd.google.colaboratory.intrinsic+json": {
              "type": "dataframe",
              "variable_name": "dataset",
              "summary": "{\n  \"name\": \"dataset\",\n  \"rows\": 42,\n  \"fields\": [\n    {\n      \"column\": \"question\",\n      \"properties\": {\n        \"dtype\": \"string\",\n        \"num_unique_values\": 42,\n        \"samples\": [\n          \"Give me examples of current wake words used in virtual assistants?\",\n          \"How does Multi-Layer Perceptron fit into Neural Networks?\",\n          \"What is a Neural Network?\"\n        ],\n        \"semantic_type\": \"\",\n        \"description\": \"\"\n      }\n    },\n    {\n      \"column\": \"answer\",\n      \"properties\": {\n        \"dtype\": \"string\",\n        \"num_unique_values\": 42,\n        \"samples\": [\n          \"Common examples of wake words used in popular virtual assistant systems include: \\\"Hey Siri\\\" - Used to activate Apple's Siri. \\\"OK Google\\\" or \\\"Hey Google\\\" - Used to activate Google Assistant. \\\"Alexa\\\" - Used to activate Amazon's Alexa. \\\"Hey Cortana\\\" - Used to activate Microsoft's Cortana.\",\n          \"A Multi-Layer Perceptron (MLP) is a type of artificial neural network that consists of multiple layers of interconnected neurons, including an input layer, one or more hidden layers, and an output layer.\",\n          \"A neural network is a computational model inspired by the structure and function of biological neural networks in the human brain.\"\n        ],\n        \"semantic_type\": \"\",\n        \"description\": \"\"\n      }\n    }\n  ]\n}"
            }
          },
          "metadata": {},
          "execution_count": 6
        }
      ]
    },
    {
      "cell_type": "code",
      "source": [
        "# Build the prompt that will be passed to the model\n",
        "def buildprompts(data):\n",
        "    prompt = {}\n",
        "    prompt['text'] = \"Given the question delimited by triple backticks ```{\" + data['question'] + \"}```, what is the answer? Answer: {\" + data['answer'] + \"}\"\n",
        "    return prompt"
      ],
      "metadata": {
        "id": "xpM_cXYDQefv"
      },
      "execution_count": null,
      "outputs": []
    },
    {
      "cell_type": "code",
      "source": [
        "dataset['prompt'] = dataset.apply(buildprompts, axis=1)"
      ],
      "metadata": {
        "id": "JTpoouRkQhg3"
      },
      "execution_count": null,
      "outputs": []
    },
    {
      "cell_type": "code",
      "source": [
        "print(dataset['prompt'])"
      ],
      "metadata": {
        "colab": {
          "base_uri": "https://localhost:8080/"
        },
        "id": "FhAj54_vTGvP",
        "outputId": "03f6b362-a3ae-4da3-ff09-1d992bc62c26"
      },
      "execution_count": null,
      "outputs": [
        {
          "output_type": "stream",
          "name": "stdout",
          "text": [
            "0                                                                                                                                                                                                                                                                                                                                                                                                                                                                                                                                                                                                                                                          {'text': 'Given the question delimited by triple backticks ```{What is Artificial Intelligence?}```, what is the answer? Answer: {Artificial Intelligence (AI) refers to the development of computer systems capable of performing tasks that typically require human intelligence.}'}\n",
            "1                                                                                                                                                                                                                                                                                                                                                                                                                                                                                                                                                                                                                                                                                                                                                {'text': 'Given the question delimited by triple backticks ```{What is Machine Learning?}```, what is the answer? Answer: {Machine Learning (ML) is a subset of artificial intelligence (AI).}'}\n",
            "2                                                                                                                                                                                                                                                                                                                                                                                                                                                                                                                                                                                                                                                   {'text': 'Given the question delimited by triple backticks ```{What is Deep Learning?}```, what is the answer? Answer: {Deep learning is a subset of machine learning that focuses on the development and training of artificial neural networks with many layers (hence the term \"deep\").}'}\n",
            "3                                                                                                                                                                                                                                                                                                                                                                                                                                                                                                                                                                                                                                                {'text': 'Given the question delimited by triple backticks ```{What are the types of Machine Learning?}```, what is the answer? Answer: {Machine learning can be broadly categorized into three main types, based on the nature of the learning process and the availability of labeled data.}'}\n",
            "4                                                                                                                                                                                                                                                                                                                                                                                                                                                                                                                                                                                                                                                                                                {'text': 'Given the question delimited by triple backticks ```{What is supervised Machine Learning?}```, what is the answer? Answer: {Supervised machine learning is a type of machine learning where the algorithm learns from labeled data.}'}\n",
            "5                                                                                                                                                                                                                                                                                                                                                                                                                                                                                                                                                                                                                          {'text': 'Given the question delimited by triple backticks ```{What is unsupervised Machine Learning?}```, what is the answer? Answer: {Unsupervised machine learning is a type of machine learning where the algorithm learns from unlabeled data, meaning that no explicit output labels or targets are provided.}'}\n",
            "6                                                                                                                                                                                                                                                                                                                                                                                                                                                                                                                                                                                                      {'text': 'Given the question delimited by triple backticks ```{What are the different phases in supervised Machine Learning?}```, what is the answer? Answer: {In supervised machine learning, the process typically involves several distinct phases, each of which plays a crucial role in developing and deploying effective models.}'}\n",
            "7                                                                                                                                                                                                                                                                                                                                                                                                                                                                                                                                                                                               {'text': 'Given the question delimited by triple backticks ```{How do we partition the data in supervised Machine Learning?}```, what is the answer? Answer: {In supervised machine learning, data partitioning refers to the process of splitting the available dataset into separate subsets for training, validation, and testing purposes.}'}\n",
            "8                                                                                                                                                                                                                                                                                                                                                                                                                                                                                                                                                                                                                                                                                {'text': 'Given the question delimited by triple backticks ```{What is a Neural Network?}```, what is the answer? Answer: {A neural network is a computational model inspired by the structure and function of biological neural networks in the human brain.}'}\n",
            "9                                                                                                                                                                                                                                                                                                                                                                                                                                                                                                                                                                                                        {'text': 'Given the question delimited by triple backticks ```{What are the different components of a Neural Network?}```, what is the answer? Answer: {A neural network consists of several key components, each of which plays a specific role in processing input data, learning from examples, and generating output predictions.}'}\n",
            "10                                                                                                                                                                                                                                                                                                                                                                                                                                                                                                                                                                                                                                                        {'text': 'Given the question delimited by triple backticks ```{Why is the Error Function needed in a Neural Network?}```, what is the answer? Answer: {The error function, also known as the loss function or objective function, plays a crucial role in training a neural network.}'}\n",
            "11                                                                                                                                                                                                                                                                                                                                                                                                                                                                                                                                                                                                                          {'text': 'Given the question delimited by triple backticks ```{What is the definition of Deep Learning?}```, what is the answer? Answer: {Deep learning is a subfield of machine learning that focuses on the development and training of artificial neural networks with multiple layers (hence the term \"deep\").}'}\n",
            "12                                                                                                                                                                                                                                                                                                                                                                                                                                                                                                                                                                                                           {'text': 'Given the question delimited by triple backticks ```{How does Deep Learning relate to Neural Networks?}```, what is the answer? Answer: {Deep learning is closely related to neural networks, as it represents a specific approach to training and using neural networks to model and learn complex patterns from data.}'}\n",
            "13                                                                                                                                                                                                                                                                                                                                                                                                                                                                                                                                                                      {'text': 'Given the question delimited by triple backticks ```{How does Multi-Layer Perceptron fit into Neural Networks?}```, what is the answer? Answer: {A Multi-Layer Perceptron (MLP) is a type of artificial neural network that consists of multiple layers of interconnected neurons, including an input layer, one or more hidden layers, and an output layer.}'}\n",
            "14                                                                                                                                                                                                                                                                                                                                                                                                                                                                                                                                                                                                                            {'text': 'Given the question delimited by triple backticks ```{What are the common architectures of a Neural Network?}```, what is the answer? Answer: {Some common architectures include: Feedforward Neural Networks (FNN), Convolutional Neural Networks (CNN), Recurrent Neural Networks (RNN), Autoencoder.}'}\n",
            "15                                                                                                                                                                                                                                                                                                                                                                                                                                                                                                                                                                                          {'text': 'Given the question delimited by triple backticks ```{What is a Latent Representation?}```, what is the answer? Answer: {A latent representation, in the context of machine learning and neural networks, refers to a compressed, low-dimensional representation of data that captures essential features or patterns in the input space.}'}\n",
            "16                                                                                                                                                                                                                                                                                                                                                                                                                                                                                                                                                                                                                                   {'text': 'Given the question delimited by triple backticks ```{What is Binary Classification?}```, what is the answer? Answer: {Binary classification is a type of supervised learning task in machine learning where the goal is to classify input data into one of two distinct classes or categories. }'}\n",
            "17                                                                                                                                                                                                                                                                                                                                                                                                                                                                                                                                                                                                         {'text': 'Given the question delimited by triple backticks ```{What are the different User Identification Applications?}```, what is the answer? Answer: {User identification applications refer to systems or methods that aim to identify or authenticate users based on their unique characteristics, behaviors, or credentials.}'}\n",
            "18                                   {'text': 'Given the question delimited by triple backticks ```{What is the difference between Verification and Recognition in User Identification?}```, what is the answer? Answer: {In the context of user identification, verification and recognition are two distinct processes that serve different purposes. Verification, also known as authentication, refers to the process of confirming whether a user is who they claim to be. It involves comparing the presented identity credentials (such as passwords, PINs, biometric samples, or security tokens) provided by the user with stored reference data (e.g., password hashes, biometric templates) associated with the user's identity. Recognition, on the other hand, involves identifying or classifying individuals based on their unique characteristics or features without requiring them to provide explicit identity credentials.}'}\n",
            "19                                                                                                                                                                                                                                                                                                                                                                                                            {'text': 'Given the question delimited by triple backticks ```{How does learning work in a User Identification Algorithm?}```, what is the answer? Answer: {Learning in a user identification algorithm typically involves training a model to recognize or verify the identity of users based on their characteristics, behaviors, or credentials. The learning process typically follows these steps: Data Collection, Feature Extraction, Model Selection, Training, Evaluation, Fine-Tuning and Optimization and Deployment.}'}\n",
            "20                                                                                                                                                                                                                                                                                                                                               {'text': 'Given the question delimited by triple backticks ```{What are the different variations to overcome in facial recognition?}```, what is the answer? Answer: {Facial recognition technology has made significant advancements in recent years, but it still faces several challenges and variations that can affect its performance. Some of the key variations to overcome in facial recognition include: Illumination Variations, Pose Variations, Expression Variations, Occlusions, Aging, Ethnic and Cultural Diversity, Environmental Factors and Privacy and Ethical Concerns.}'}\n",
            "21                                                                                                                                                                                                                                 {'text': 'Given the question delimited by triple backticks ```{What are the different levels in finger-print recognition?}```, what is the answer? Answer: {Fingerprint recognition, also known as fingerprint biometrics, involves the identification or verification of individuals based on the unique patterns and characteristics present in their fingerprints. Fingerprint recognition systems typically operate at different levels of analysis and processing to extract, match, and identify fingerprints. The different levels in fingerprint recognition include: Image Acquisition, Preprocessing, Feature Extraction, Feature Matching, Template Generation and Matching and Decision Making.}'}\n",
            "22                                                                                                                                                                                                                                                                                                                                                                                                                                                                                                     {'text': 'Given the question delimited by triple backticks ```{What are the two main approaches used in speaker verification?}```, what is the answer? Answer: {In speaker verification, the goal is to verify the identity of an individual based on their voice or speech characteristics. There are two main approaches used in speaker verification: Text-dependent speaker verification and Text-independent speaker verification.}'}\n",
            "23                                                                                                                                                                                                                                                                                             {'text': 'Given the question delimited by triple backticks ```{What is the difference between Text-dependent and Text-independent verification?}```, what is the answer? Answer: {Text-dependent speaker verification requires the individual to speak a predefined passphrase or utterance during both enrollment (registration) and verification phases. Text-independent speaker verification does not require the individual to speak a specific passphrase during enrollment or verification. Instead, the system verifies the identity of the speaker based on their voice characteristics without prior knowledge of the spoken content.}'}\n",
            "24                                                                                                                                                                                                                                                                                                                                                                                              {'text': 'Given the question delimited by triple backticks ```{What is a wake word in a virtual assistance system?}```, what is the answer? Answer: {A wake word, also known as a trigger word or hotword, is a specific phrase or word that activates a virtual assistant or voice-controlled device, prompting it to start listening for user commands or queries. When a wake word is detected, the device begins recording audio and processing subsequent speech input, allowing users to interact with the virtual assistant hands-free.}'}\n",
            "25                                                                                                                                                                                                                                                                                                                                                                                                                                                                          {'text': 'Given the question delimited by triple backticks ```{Give me examples of current wake words used in virtual assistants?}```, what is the answer? Answer: {Common examples of wake words used in popular virtual assistant systems include: \"Hey Siri\" - Used to activate Apple's Siri. \"OK Google\" or \"Hey Google\" - Used to activate Google Assistant. \"Alexa\" - Used to activate Amazon's Alexa. \"Hey Cortana\" - Used to activate Microsoft's Cortana.}'}\n",
            "26                                                                                                                                                                                                                                                                                                                                                                                                                                     {'text': 'Given the question delimited by triple backticks ```{What are the qualities of a good wake word?}```, what is the answer? Answer: {The qualities of a good wake word are essential for ensuring an effective and user-friendly interaction experience with virtual assistant systems. Here are some key qualities that make a wake word effective: Distinctiveness, Recognizability, Simplicity, Cultural Neutrality, Non-Intrusiveness, Phonetic Stability, Brand Alignment and Scalability.}'}\n",
            "27                                                                                                                                                                                                                                                                                                {'text': 'Given the question delimited by triple backticks ```{How to evaluate the performance wake word detection in a virtual assistant?}```, what is the answer? Answer: {Evaluating the performance of wake word detection in a virtual assistant involves assessing the accuracy, robustness, and efficiency of the system in recognizing and responding to user-initiated wake words. Here are several key metrics and methods commonly used to evaluate wake word detection performance: Accuracy, False Acceptance Rate (FAR), False Rejection Rate (FRR), Detection Latency, Recognition Threshold, Robustness and User Experience.}'}\n",
            "28                                                                                                                                                                                                                                                                                                                                                                                                                                                                                              {'text': 'Given the question delimited by triple backticks ```{What is ASR system in speech recognition?}```, what is the answer? Answer: {An ASR (Automatic Speech Recognition) system, also known as speech-to-text or voice recognition system, is a technology that converts spoken language into text. It is a key component of natural language processing (NLP) systems and enables computers to understand and interpret human speech.}'}\n",
            "29                                                                                {'text': 'Given the question delimited by triple backticks ```{What are the different components of an ASR system?}```, what is the answer? Answer: {ASR systems typically consist of the following components: Acoustic Model responsible for converting the acoustic signal of the spoken speech into a sequence of phonemes or basic sound units. Language Model captures the syntactic and semantic structure of language and helps predict the sequence of words or phrases that are likely to occur in a given context. Pronunciation Model maps phonemes to their corresponding words or lexical units and provides information about how words are pronounced. Decoder combines information from the acoustic model, language model, and pronunciation model to generate the most likely transcription or interpretation of the input speech signal.}'}\n",
            "30                                                                                                                                                                                                                                                                                                                                                                                                                       {'text': 'Given the question delimited by triple backticks ```{Can you explain how speech recognition systems are trained?}```, what is the answer? Answer: {Training a speech recognition system involves teaching the system to recognize patterns in speech data and associate them with corresponding textual transcriptions. The training process for speech recognition systems include: Data Collection, Data Preprocessing, Annotation, Model Selection, Model Training, Evaluation, Optimization and Tuning.}'}\n",
            "31                                                                                                                                                                                                                                                                        {'text': 'Given the question delimited by triple backticks ```{How to evaluate the accuracy of speech recognition models?}```, what is the answer? Answer: {The accuracy of speech recognition models is typically evaluated using various metrics that quantify the agreement between the predicted transcriptions generated by the model and the ground truth transcriptions provided in the dataset. Here are some commonly used metrics for evaluating the accuracy of speech recognition models: Word Error Rate (WER), Phoneme Error Rate (PER), Character Error Rate (CER), Accuracy, Word-Level Precision, Recall, and F1 Score and Sentence-Level Accuracy.}'}\n",
            "32                                                                                                                                                                                                                                                                                                {'text': 'Given the question delimited by triple backticks ```{Explain Word Error Rate (WER) evaluation in the ASR system?}```, what is the answer? Answer: {Word Error Rate (WER) is a commonly used metric for evaluating the performance of automatic speech recognition (ASR) systems. WER measures the rate of errors in the recognized transcriptions compared to the ground truth transcriptions, expressed as the percentage of words that are incorrectly recognized, inserted, deleted, or substituted. WER provides a comprehensive assessment of the overall accuracy of the ASR system in converting spoken language into text.}'}\n",
            "33                                                                                                                                                                                                                                                                                                                                                                                               {'text': 'Given the question delimited by triple backticks ```{What is a transformer in a neural network?}```, what is the answer? Answer: {A transformer is a type of deep learning architecture that has gained significant popularity, particularly in natural language processing (NLP) tasks, due to its ability to handle long-range dependencies and parallelize computations efficiently. Introduced in the paper \"Attention is All You Need\" by Vaswani et al. in 2017, transformers have become a cornerstone in modern NLP models.}'}\n",
            "34    {'text': 'Given the question delimited by triple backticks ```{What are the key components of a transformer network?}```, what is the answer? Answer: {The key components of a transformer network include: Self-Attention Mechanism that allows the model to weigh the importance of different words in the input sequence concerning each other. Multi-Head Attention that extends self-attention by performing multiple attention computations in parallel, allowing the model to attend to different parts of the input sequence simultaneously. Positional Encoding is added to the input embeddings to provide information about the position of each word in the sequence. Feed-Forward Neural Networks (FFNN) to process the attended representations and generate context-aware features. Layer Normalization and Residual Connections are used to stabilize training and facilitate the flow of gradients through the network.}'}\n",
            "35                                                                                                                                                                                                                                                                                                                                                                                                                                                                                                                {'text': 'Given the question delimited by triple backticks ```{How does the self-attention mechanism work in a transformer network?}```, what is the answer? Answer: {The attention mechanism in a Transformer network is different from other types of attention mechanisms in neural networks because it uses self-attention. This allows the network to attend to all other tokens in the input sequence simultaneously. }'}\n",
            "36                                                                                                                                                                                                                                                                                                                                 {'text': 'Given the question delimited by triple backticks ```{What are some common techniques for training Transformer networks?}```, what is the answer? Answer: {Training transformer networks involves optimizing their parameters to minimize a loss function, typically using stochastic gradient descent (SGD) or its variants. Several techniques have been developed to enhance the training of transformer networks and improve their performance. Some common techniques include: Learning Rate Scheduling, Batch Size and Batch Normalization, Regularization Techniques and Gradient Clipping.}'}\n",
            "37                                                                                                                                                                                                                                                                                                                                                              {'text': 'Given the question delimited by triple backticks ```{How does positional encoding work in a Transformer network?}```, what is the answer? Answer: {Positional encoding is a crucial component in transformer networks, as transformers do not inherently encode sequential order like recurrent neural networks (RNNs) or convolutional neural networks (CNNs). Positional encoding provides the model with information about the relative or absolute positions of tokens in the input sequence, allowing the model to learn dependencies based on their positions.}'}\n",
            "38                                                                                                                                                                    {'text': 'Given the question delimited by triple backticks ```{How does the Transformer architecture compare to other types of neural network architectures, such as RNNs or CNNs?}```, what is the answer? Answer: {The Transformer architecture is designed specifically for processing sequential data, such as text or time-series data. Compared to other types of neural network architectures, such as RNNs or CNNs, the Transformer has several advantages, including capturing long-range dependencies, parallelising processing across the input sequence, and the ability to process variable-length input sequences. However, the Transformer may not be as effective for tasks that require modeling spatial relationships, such as image processing tasks.}'}\n",
            "39                                                                                                                                                                                                                                                                                                                                                   {'text': 'Given the question delimited by triple backticks ```{What is intent detection?}```, what is the answer? Answer: {Intent detection, also known as intent recognition or intent classification, is a natural language processing (NLP) task that involves identifying the intention or purpose underlying a user's input or utterance. In the context of conversational systems such as chatbots, virtual assistants, or voice-activated interfaces, intent detection aims to understand what the user wants to accomplish or communicate based on their spoken or written input.}'}\n",
            "40                                                                                                                                                                                                                                                                                                                                                                         {'text': 'Given the question delimited by triple backticks ```{What is data augmentation in NLP?}```, what is the answer? Answer: {Data augmentation is a technique used to artificially increase the size and diversity of a dataset by applying various transformations or modifications to the original data samples. The goal of data augmentation is to improve the generalization, robustness, and performance of machine learning models by exposing them to a broader range of variations and scenarios that they might encounter in real-world situations.}'}\n",
            "41                                                                                                                                                                                                                                                                                                                             {'text': 'Given the question delimited by triple backticks ```{Why is language input challenging?}```, what is the answer? Answer: {Language input presents several challenges for natural language processing (NLP) systems due to its inherent complexity, ambiguity, and variability. Some of the key reasons why language input is challenging include: Ambiguity and Polysemy, Syntax and Grammar, Variability and Informality, Context Sensitivity, Ambiguous Referents and Anaphora, Lexical Gaps and Out-of-Vocabulary Words, Irony, Sarcasm, and Figurative Language and Noise, Errors, and Ambiguity.}'}\n",
            "Name: prompt, dtype: object\n"
          ]
        }
      ]
    },
    {
      "cell_type": "code",
      "source": [
        "# Insert the prompt dataset in a json file\n",
        "result = dataset['prompt'].to_list()\n",
        "with open('/content/sample_data/prompts.json', 'w') as outfile:\n",
        "    json.dump(result, outfile, ensure_ascii=False)"
      ],
      "metadata": {
        "id": "kjOYCjEJTem7"
      },
      "execution_count": null,
      "outputs": []
    },
    {
      "cell_type": "code",
      "execution_count": null,
      "metadata": {
        "id": "5u4A2J1OXXZ5",
        "colab": {
          "base_uri": "https://localhost:8080/"
        },
        "outputId": "9cc3ae1e-0e47-49e3-ffa6-fb557ad8f549"
      },
      "outputs": [
        {
          "output_type": "stream",
          "name": "stdout",
          "text": [
            "Requirement already satisfied: transformers in /usr/local/lib/python3.10/dist-packages (4.30.0)\n",
            "Requirement already satisfied: filelock in /usr/local/lib/python3.10/dist-packages (from transformers) (3.13.3)\n",
            "Requirement already satisfied: huggingface-hub<1.0,>=0.14.1 in /usr/local/lib/python3.10/dist-packages (from transformers) (0.20.3)\n",
            "Requirement already satisfied: numpy>=1.17 in /usr/local/lib/python3.10/dist-packages (from transformers) (1.25.2)\n",
            "Requirement already satisfied: packaging>=20.0 in /usr/local/lib/python3.10/dist-packages (from transformers) (24.0)\n",
            "Requirement already satisfied: pyyaml>=5.1 in /usr/local/lib/python3.10/dist-packages (from transformers) (6.0.1)\n",
            "Requirement already satisfied: regex!=2019.12.17 in /usr/local/lib/python3.10/dist-packages (from transformers) (2023.12.25)\n",
            "Requirement already satisfied: requests in /usr/local/lib/python3.10/dist-packages (from transformers) (2.31.0)\n",
            "Requirement already satisfied: tokenizers!=0.11.3,<0.14,>=0.11.1 in /usr/local/lib/python3.10/dist-packages (from transformers) (0.13.3)\n",
            "Requirement already satisfied: safetensors>=0.3.1 in /usr/local/lib/python3.10/dist-packages (from transformers) (0.4.2)\n",
            "Requirement already satisfied: tqdm>=4.27 in /usr/local/lib/python3.10/dist-packages (from transformers) (4.66.2)\n",
            "Requirement already satisfied: fsspec>=2023.5.0 in /usr/local/lib/python3.10/dist-packages (from huggingface-hub<1.0,>=0.14.1->transformers) (2023.6.0)\n",
            "Requirement already satisfied: typing-extensions>=3.7.4.3 in /usr/local/lib/python3.10/dist-packages (from huggingface-hub<1.0,>=0.14.1->transformers) (4.10.0)\n",
            "Requirement already satisfied: charset-normalizer<4,>=2 in /usr/local/lib/python3.10/dist-packages (from requests->transformers) (3.3.2)\n",
            "Requirement already satisfied: idna<4,>=2.5 in /usr/local/lib/python3.10/dist-packages (from requests->transformers) (3.6)\n",
            "Requirement already satisfied: urllib3<3,>=1.21.1 in /usr/local/lib/python3.10/dist-packages (from requests->transformers) (2.0.7)\n",
            "Requirement already satisfied: certifi>=2017.4.17 in /usr/local/lib/python3.10/dist-packages (from requests->transformers) (2024.2.2)\n",
            "Requirement already satisfied: accelerate in /usr/local/lib/python3.10/dist-packages (0.28.0)\n",
            "Requirement already satisfied: numpy>=1.17 in /usr/local/lib/python3.10/dist-packages (from accelerate) (1.25.2)\n",
            "Requirement already satisfied: packaging>=20.0 in /usr/local/lib/python3.10/dist-packages (from accelerate) (24.0)\n",
            "Requirement already satisfied: psutil in /usr/local/lib/python3.10/dist-packages (from accelerate) (5.9.5)\n",
            "Requirement already satisfied: pyyaml in /usr/local/lib/python3.10/dist-packages (from accelerate) (6.0.1)\n",
            "Requirement already satisfied: torch>=1.10.0 in /usr/local/lib/python3.10/dist-packages (from accelerate) (2.2.1+cu121)\n",
            "Requirement already satisfied: huggingface-hub in /usr/local/lib/python3.10/dist-packages (from accelerate) (0.20.3)\n",
            "Requirement already satisfied: safetensors>=0.3.1 in /usr/local/lib/python3.10/dist-packages (from accelerate) (0.4.2)\n",
            "Requirement already satisfied: filelock in /usr/local/lib/python3.10/dist-packages (from torch>=1.10.0->accelerate) (3.13.3)\n",
            "Requirement already satisfied: typing-extensions>=4.8.0 in /usr/local/lib/python3.10/dist-packages (from torch>=1.10.0->accelerate) (4.10.0)\n",
            "Requirement already satisfied: sympy in /usr/local/lib/python3.10/dist-packages (from torch>=1.10.0->accelerate) (1.12)\n",
            "Requirement already satisfied: networkx in /usr/local/lib/python3.10/dist-packages (from torch>=1.10.0->accelerate) (3.2.1)\n",
            "Requirement already satisfied: jinja2 in /usr/local/lib/python3.10/dist-packages (from torch>=1.10.0->accelerate) (3.1.3)\n",
            "Requirement already satisfied: fsspec in /usr/local/lib/python3.10/dist-packages (from torch>=1.10.0->accelerate) (2023.6.0)\n",
            "Requirement already satisfied: nvidia-cuda-nvrtc-cu12==12.1.105 in /usr/local/lib/python3.10/dist-packages (from torch>=1.10.0->accelerate) (12.1.105)\n",
            "Requirement already satisfied: nvidia-cuda-runtime-cu12==12.1.105 in /usr/local/lib/python3.10/dist-packages (from torch>=1.10.0->accelerate) (12.1.105)\n",
            "Requirement already satisfied: nvidia-cuda-cupti-cu12==12.1.105 in /usr/local/lib/python3.10/dist-packages (from torch>=1.10.0->accelerate) (12.1.105)\n",
            "Requirement already satisfied: nvidia-cudnn-cu12==8.9.2.26 in /usr/local/lib/python3.10/dist-packages (from torch>=1.10.0->accelerate) (8.9.2.26)\n",
            "Requirement already satisfied: nvidia-cublas-cu12==12.1.3.1 in /usr/local/lib/python3.10/dist-packages (from torch>=1.10.0->accelerate) (12.1.3.1)\n",
            "Requirement already satisfied: nvidia-cufft-cu12==11.0.2.54 in /usr/local/lib/python3.10/dist-packages (from torch>=1.10.0->accelerate) (11.0.2.54)\n",
            "Requirement already satisfied: nvidia-curand-cu12==10.3.2.106 in /usr/local/lib/python3.10/dist-packages (from torch>=1.10.0->accelerate) (10.3.2.106)\n",
            "Requirement already satisfied: nvidia-cusolver-cu12==11.4.5.107 in /usr/local/lib/python3.10/dist-packages (from torch>=1.10.0->accelerate) (11.4.5.107)\n",
            "Requirement already satisfied: nvidia-cusparse-cu12==12.1.0.106 in /usr/local/lib/python3.10/dist-packages (from torch>=1.10.0->accelerate) (12.1.0.106)\n",
            "Requirement already satisfied: nvidia-nccl-cu12==2.19.3 in /usr/local/lib/python3.10/dist-packages (from torch>=1.10.0->accelerate) (2.19.3)\n",
            "Requirement already satisfied: nvidia-nvtx-cu12==12.1.105 in /usr/local/lib/python3.10/dist-packages (from torch>=1.10.0->accelerate) (12.1.105)\n",
            "Requirement already satisfied: triton==2.2.0 in /usr/local/lib/python3.10/dist-packages (from torch>=1.10.0->accelerate) (2.2.0)\n",
            "Requirement already satisfied: nvidia-nvjitlink-cu12 in /usr/local/lib/python3.10/dist-packages (from nvidia-cusolver-cu12==11.4.5.107->torch>=1.10.0->accelerate) (12.4.99)\n",
            "Requirement already satisfied: requests in /usr/local/lib/python3.10/dist-packages (from huggingface-hub->accelerate) (2.31.0)\n",
            "Requirement already satisfied: tqdm>=4.42.1 in /usr/local/lib/python3.10/dist-packages (from huggingface-hub->accelerate) (4.66.2)\n",
            "Requirement already satisfied: MarkupSafe>=2.0 in /usr/local/lib/python3.10/dist-packages (from jinja2->torch>=1.10.0->accelerate) (2.1.5)\n",
            "Requirement already satisfied: charset-normalizer<4,>=2 in /usr/local/lib/python3.10/dist-packages (from requests->huggingface-hub->accelerate) (3.3.2)\n",
            "Requirement already satisfied: idna<4,>=2.5 in /usr/local/lib/python3.10/dist-packages (from requests->huggingface-hub->accelerate) (3.6)\n",
            "Requirement already satisfied: urllib3<3,>=1.21.1 in /usr/local/lib/python3.10/dist-packages (from requests->huggingface-hub->accelerate) (2.0.7)\n",
            "Requirement already satisfied: certifi>=2017.4.17 in /usr/local/lib/python3.10/dist-packages (from requests->huggingface-hub->accelerate) (2024.2.2)\n",
            "Requirement already satisfied: mpmath>=0.19 in /usr/local/lib/python3.10/dist-packages (from sympy->torch>=1.10.0->accelerate) (1.3.0)\n",
            "Requirement already satisfied: datasets in /usr/local/lib/python3.10/dist-packages (2.18.0)\n",
            "Requirement already satisfied: filelock in /usr/local/lib/python3.10/dist-packages (from datasets) (3.13.3)\n",
            "Requirement already satisfied: numpy>=1.17 in /usr/local/lib/python3.10/dist-packages (from datasets) (1.25.2)\n",
            "Requirement already satisfied: pyarrow>=12.0.0 in /usr/local/lib/python3.10/dist-packages (from datasets) (14.0.2)\n",
            "Requirement already satisfied: pyarrow-hotfix in /usr/local/lib/python3.10/dist-packages (from datasets) (0.6)\n",
            "Requirement already satisfied: dill<0.3.9,>=0.3.0 in /usr/local/lib/python3.10/dist-packages (from datasets) (0.3.8)\n",
            "Requirement already satisfied: pandas in /usr/local/lib/python3.10/dist-packages (from datasets) (1.5.3)\n",
            "Requirement already satisfied: requests>=2.19.0 in /usr/local/lib/python3.10/dist-packages (from datasets) (2.31.0)\n",
            "Requirement already satisfied: tqdm>=4.62.1 in /usr/local/lib/python3.10/dist-packages (from datasets) (4.66.2)\n",
            "Requirement already satisfied: xxhash in /usr/local/lib/python3.10/dist-packages (from datasets) (3.4.1)\n",
            "Requirement already satisfied: multiprocess in /usr/local/lib/python3.10/dist-packages (from datasets) (0.70.16)\n",
            "Requirement already satisfied: fsspec[http]<=2024.2.0,>=2023.1.0 in /usr/local/lib/python3.10/dist-packages (from datasets) (2023.6.0)\n",
            "Requirement already satisfied: aiohttp in /usr/local/lib/python3.10/dist-packages (from datasets) (3.9.3)\n",
            "Requirement already satisfied: huggingface-hub>=0.19.4 in /usr/local/lib/python3.10/dist-packages (from datasets) (0.20.3)\n",
            "Requirement already satisfied: packaging in /usr/local/lib/python3.10/dist-packages (from datasets) (24.0)\n",
            "Requirement already satisfied: pyyaml>=5.1 in /usr/local/lib/python3.10/dist-packages (from datasets) (6.0.1)\n",
            "Requirement already satisfied: aiosignal>=1.1.2 in /usr/local/lib/python3.10/dist-packages (from aiohttp->datasets) (1.3.1)\n",
            "Requirement already satisfied: attrs>=17.3.0 in /usr/local/lib/python3.10/dist-packages (from aiohttp->datasets) (23.2.0)\n",
            "Requirement already satisfied: frozenlist>=1.1.1 in /usr/local/lib/python3.10/dist-packages (from aiohttp->datasets) (1.4.1)\n",
            "Requirement already satisfied: multidict<7.0,>=4.5 in /usr/local/lib/python3.10/dist-packages (from aiohttp->datasets) (6.0.5)\n",
            "Requirement already satisfied: yarl<2.0,>=1.0 in /usr/local/lib/python3.10/dist-packages (from aiohttp->datasets) (1.9.4)\n",
            "Requirement already satisfied: async-timeout<5.0,>=4.0 in /usr/local/lib/python3.10/dist-packages (from aiohttp->datasets) (4.0.3)\n",
            "Requirement already satisfied: typing-extensions>=3.7.4.3 in /usr/local/lib/python3.10/dist-packages (from huggingface-hub>=0.19.4->datasets) (4.10.0)\n",
            "Requirement already satisfied: charset-normalizer<4,>=2 in /usr/local/lib/python3.10/dist-packages (from requests>=2.19.0->datasets) (3.3.2)\n",
            "Requirement already satisfied: idna<4,>=2.5 in /usr/local/lib/python3.10/dist-packages (from requests>=2.19.0->datasets) (3.6)\n",
            "Requirement already satisfied: urllib3<3,>=1.21.1 in /usr/local/lib/python3.10/dist-packages (from requests>=2.19.0->datasets) (2.0.7)\n",
            "Requirement already satisfied: certifi>=2017.4.17 in /usr/local/lib/python3.10/dist-packages (from requests>=2.19.0->datasets) (2024.2.2)\n",
            "Requirement already satisfied: python-dateutil>=2.8.1 in /usr/local/lib/python3.10/dist-packages (from pandas->datasets) (2.8.2)\n",
            "Requirement already satisfied: pytz>=2020.1 in /usr/local/lib/python3.10/dist-packages (from pandas->datasets) (2023.4)\n",
            "Requirement already satisfied: six>=1.5 in /usr/local/lib/python3.10/dist-packages (from python-dateutil>=2.8.1->pandas->datasets) (1.16.0)\n"
          ]
        }
      ],
      "source": [
        "!pip install transformers\n",
        "!pip install accelerate -U\n",
        "!pip install datasets"
      ]
    },
    {
      "cell_type": "code",
      "source": [
        "import pandas as pd\n",
        "import torch\n",
        "import json\n",
        "from transformers import BloomTokenizerFast, BloomForCausalLM, TrainingArguments, Trainer\n",
        "from datasets import load_dataset\n",
        "from accelerate import Accelerator"
      ],
      "metadata": {
        "id": "3QmeKkMiToU7"
      },
      "execution_count": null,
      "outputs": []
    },
    {
      "cell_type": "code",
      "source": [
        "# Get the tokenizer and model from bloomz-560m\n",
        "tokenizer = BloomTokenizerFast.from_pretrained(\"bigscience/bloomz-560m\")\n",
        "model = BloomForCausalLM.from_pretrained(\"bigscience/bloomz-560m\").to(\"cuda\")"
      ],
      "metadata": {
        "id": "ZuBqFt-uUau6"
      },
      "execution_count": null,
      "outputs": []
    },
    {
      "cell_type": "code",
      "source": [
        "# Load json dataset\n",
        "dataset = load_dataset(\"json\", data_files=\"/content/sample_data/prompts.json\")"
      ],
      "metadata": {
        "colab": {
          "base_uri": "https://localhost:8080/",
          "height": 49,
          "referenced_widgets": [
            "1ee2a078bcf045baa47f80b37a1763ec",
            "8b5be69c060f46b08f80025e80f191d1",
            "1b3baf382ece447bac391a6477169bc0",
            "58113a2952634518bc1f24b91f7b2d5a",
            "609c4dff2b7f4e38abfa74586fa4a183",
            "b30871a25c4a45c7bab02fdd8c76cfc4",
            "02dfc7d7ede7467b9cca4f68db66b79b",
            "02d529bb2e0c44c9a34ef9d4fc261d7d",
            "63a8eced56484487a371e51ea38954fb",
            "bfd7382ee31c4612b75ace55adc60dae",
            "febc2333a2ba421ebb0ec8c0ac56cb45"
          ]
        },
        "id": "-HFjuLP1UlHi",
        "outputId": "f815cdef-52b0-4d06-a13f-3d3dc74c3195"
      },
      "execution_count": null,
      "outputs": [
        {
          "output_type": "display_data",
          "data": {
            "text/plain": [
              "Generating train split: 0 examples [00:00, ? examples/s]"
            ],
            "application/vnd.jupyter.widget-view+json": {
              "version_major": 2,
              "version_minor": 0,
              "model_id": "1ee2a078bcf045baa47f80b37a1763ec"
            }
          },
          "metadata": {}
        }
      ]
    },
    {
      "cell_type": "code",
      "source": [
        "dataset"
      ],
      "metadata": {
        "colab": {
          "base_uri": "https://localhost:8080/"
        },
        "id": "JjEfE4JEUttY",
        "outputId": "d301b830-420e-4dd3-9a76-203706e74d38"
      },
      "execution_count": null,
      "outputs": [
        {
          "output_type": "execute_result",
          "data": {
            "text/plain": [
              "DatasetDict({\n",
              "    train: Dataset({\n",
              "        features: ['text'],\n",
              "        num_rows: 4\n",
              "    })\n",
              "})"
            ]
          },
          "metadata": {},
          "execution_count": 91
        }
      ]
    },
    {
      "cell_type": "code",
      "source": [
        "# Function to prepare the training data\n",
        "def prepare_train_data(data):\n",
        "    # prompt + completion\n",
        "    #text_input = data['prompt'] + ' ' + data['completion']\n",
        "    text_input = data['text']\n",
        "    # tokenize the input (prompt + completion) text\n",
        "    tokenized_input = tokenizer(text_input, return_tensors='pt', padding=True)\n",
        "    # generative models: labels are the same as the input\n",
        "    tokenized_input['labels'] = tokenized_input['input_ids']\n",
        "    return tokenized_input"
      ],
      "metadata": {
        "id": "NhlEUOyPUvoT"
      },
      "execution_count": null,
      "outputs": []
    },
    {
      "cell_type": "code",
      "source": [
        "train_dataset = dataset['train'].map(prepare_train_data, batched=True, remove_columns=[\"text\"])"
      ],
      "metadata": {
        "colab": {
          "base_uri": "https://localhost:8080/",
          "height": 49,
          "referenced_widgets": [
            "6b8b098594c143ce83f51c8736aac5f2",
            "0cfdcf978e4644eaad72c3146a4d8ba1",
            "2190ae81204d4afca6de87881471ec43",
            "9ef5d62fae3740baaefa5d3e316bf093",
            "7e695c08b4eb4f78aadfe81c89232457",
            "615bef9d4c8440dc956e701a45e1694b",
            "4648f7ad0bfb462c8f6848e3c65cd954",
            "5393e537ae30435fa73c76b3be88a3a3",
            "dc36aa14b8504eb4bedbc010428da4db",
            "d7a38193a23b446e8cd6f7865189be4f",
            "98ce980a1b1547c795c3e352b672dcea"
          ]
        },
        "id": "7h_GfiD5UynH",
        "outputId": "5a35d8f9-5997-4e15-8f9d-2973264472b3"
      },
      "execution_count": null,
      "outputs": [
        {
          "output_type": "display_data",
          "data": {
            "text/plain": [
              "Map:   0%|          | 0/4 [00:00<?, ? examples/s]"
            ],
            "application/vnd.jupyter.widget-view+json": {
              "version_major": 2,
              "version_minor": 0,
              "model_id": "6b8b098594c143ce83f51c8736aac5f2"
            }
          },
          "metadata": {}
        }
      ]
    },
    {
      "cell_type": "code",
      "source": [
        "train_dataset"
      ],
      "metadata": {
        "colab": {
          "base_uri": "https://localhost:8080/"
        },
        "id": "z48lU4bncA-t",
        "outputId": "899c195b-b068-4e48-9893-ff5ace5a32b1"
      },
      "execution_count": null,
      "outputs": [
        {
          "output_type": "execute_result",
          "data": {
            "text/plain": [
              "Dataset({\n",
              "    features: ['input_ids', 'attention_mask', 'labels'],\n",
              "    num_rows: 395\n",
              "})"
            ]
          },
          "metadata": {},
          "execution_count": 49
        }
      ]
    },
    {
      "cell_type": "code",
      "source": [
        "!pip install accelerate -U\n",
        "!pip install transformers==4.30"
      ],
      "metadata": {
        "colab": {
          "base_uri": "https://localhost:8080/"
        },
        "id": "sZORXSC_U4mK",
        "outputId": "bb05abb2-6364-4f60-efac-008815bde79c"
      },
      "execution_count": null,
      "outputs": [
        {
          "output_type": "stream",
          "name": "stdout",
          "text": [
            "Requirement already satisfied: accelerate in /usr/local/lib/python3.10/dist-packages (0.28.0)\n",
            "Requirement already satisfied: numpy>=1.17 in /usr/local/lib/python3.10/dist-packages (from accelerate) (1.25.2)\n",
            "Requirement already satisfied: packaging>=20.0 in /usr/local/lib/python3.10/dist-packages (from accelerate) (24.0)\n",
            "Requirement already satisfied: psutil in /usr/local/lib/python3.10/dist-packages (from accelerate) (5.9.5)\n",
            "Requirement already satisfied: pyyaml in /usr/local/lib/python3.10/dist-packages (from accelerate) (6.0.1)\n",
            "Requirement already satisfied: torch>=1.10.0 in /usr/local/lib/python3.10/dist-packages (from accelerate) (2.2.1+cu121)\n",
            "Requirement already satisfied: huggingface-hub in /usr/local/lib/python3.10/dist-packages (from accelerate) (0.20.3)\n",
            "Requirement already satisfied: safetensors>=0.3.1 in /usr/local/lib/python3.10/dist-packages (from accelerate) (0.4.2)\n",
            "Requirement already satisfied: filelock in /usr/local/lib/python3.10/dist-packages (from torch>=1.10.0->accelerate) (3.13.3)\n",
            "Requirement already satisfied: typing-extensions>=4.8.0 in /usr/local/lib/python3.10/dist-packages (from torch>=1.10.0->accelerate) (4.10.0)\n",
            "Requirement already satisfied: sympy in /usr/local/lib/python3.10/dist-packages (from torch>=1.10.0->accelerate) (1.12)\n",
            "Requirement already satisfied: networkx in /usr/local/lib/python3.10/dist-packages (from torch>=1.10.0->accelerate) (3.2.1)\n",
            "Requirement already satisfied: jinja2 in /usr/local/lib/python3.10/dist-packages (from torch>=1.10.0->accelerate) (3.1.3)\n",
            "Requirement already satisfied: fsspec in /usr/local/lib/python3.10/dist-packages (from torch>=1.10.0->accelerate) (2023.6.0)\n",
            "Requirement already satisfied: nvidia-cuda-nvrtc-cu12==12.1.105 in /usr/local/lib/python3.10/dist-packages (from torch>=1.10.0->accelerate) (12.1.105)\n",
            "Requirement already satisfied: nvidia-cuda-runtime-cu12==12.1.105 in /usr/local/lib/python3.10/dist-packages (from torch>=1.10.0->accelerate) (12.1.105)\n",
            "Requirement already satisfied: nvidia-cuda-cupti-cu12==12.1.105 in /usr/local/lib/python3.10/dist-packages (from torch>=1.10.0->accelerate) (12.1.105)\n",
            "Requirement already satisfied: nvidia-cudnn-cu12==8.9.2.26 in /usr/local/lib/python3.10/dist-packages (from torch>=1.10.0->accelerate) (8.9.2.26)\n",
            "Requirement already satisfied: nvidia-cublas-cu12==12.1.3.1 in /usr/local/lib/python3.10/dist-packages (from torch>=1.10.0->accelerate) (12.1.3.1)\n",
            "Requirement already satisfied: nvidia-cufft-cu12==11.0.2.54 in /usr/local/lib/python3.10/dist-packages (from torch>=1.10.0->accelerate) (11.0.2.54)\n",
            "Requirement already satisfied: nvidia-curand-cu12==10.3.2.106 in /usr/local/lib/python3.10/dist-packages (from torch>=1.10.0->accelerate) (10.3.2.106)\n",
            "Requirement already satisfied: nvidia-cusolver-cu12==11.4.5.107 in /usr/local/lib/python3.10/dist-packages (from torch>=1.10.0->accelerate) (11.4.5.107)\n",
            "Requirement already satisfied: nvidia-cusparse-cu12==12.1.0.106 in /usr/local/lib/python3.10/dist-packages (from torch>=1.10.0->accelerate) (12.1.0.106)\n",
            "Requirement already satisfied: nvidia-nccl-cu12==2.19.3 in /usr/local/lib/python3.10/dist-packages (from torch>=1.10.0->accelerate) (2.19.3)\n",
            "Requirement already satisfied: nvidia-nvtx-cu12==12.1.105 in /usr/local/lib/python3.10/dist-packages (from torch>=1.10.0->accelerate) (12.1.105)\n",
            "Requirement already satisfied: triton==2.2.0 in /usr/local/lib/python3.10/dist-packages (from torch>=1.10.0->accelerate) (2.2.0)\n",
            "Requirement already satisfied: nvidia-nvjitlink-cu12 in /usr/local/lib/python3.10/dist-packages (from nvidia-cusolver-cu12==11.4.5.107->torch>=1.10.0->accelerate) (12.4.99)\n",
            "Requirement already satisfied: requests in /usr/local/lib/python3.10/dist-packages (from huggingface-hub->accelerate) (2.31.0)\n",
            "Requirement already satisfied: tqdm>=4.42.1 in /usr/local/lib/python3.10/dist-packages (from huggingface-hub->accelerate) (4.66.2)\n",
            "Requirement already satisfied: MarkupSafe>=2.0 in /usr/local/lib/python3.10/dist-packages (from jinja2->torch>=1.10.0->accelerate) (2.1.5)\n",
            "Requirement already satisfied: charset-normalizer<4,>=2 in /usr/local/lib/python3.10/dist-packages (from requests->huggingface-hub->accelerate) (3.3.2)\n",
            "Requirement already satisfied: idna<4,>=2.5 in /usr/local/lib/python3.10/dist-packages (from requests->huggingface-hub->accelerate) (3.6)\n",
            "Requirement already satisfied: urllib3<3,>=1.21.1 in /usr/local/lib/python3.10/dist-packages (from requests->huggingface-hub->accelerate) (2.0.7)\n",
            "Requirement already satisfied: certifi>=2017.4.17 in /usr/local/lib/python3.10/dist-packages (from requests->huggingface-hub->accelerate) (2024.2.2)\n",
            "Requirement already satisfied: mpmath>=0.19 in /usr/local/lib/python3.10/dist-packages (from sympy->torch>=1.10.0->accelerate) (1.3.0)\n",
            "Requirement already satisfied: transformers==4.30 in /usr/local/lib/python3.10/dist-packages (4.30.0)\n",
            "Requirement already satisfied: filelock in /usr/local/lib/python3.10/dist-packages (from transformers==4.30) (3.13.3)\n",
            "Requirement already satisfied: huggingface-hub<1.0,>=0.14.1 in /usr/local/lib/python3.10/dist-packages (from transformers==4.30) (0.20.3)\n",
            "Requirement already satisfied: numpy>=1.17 in /usr/local/lib/python3.10/dist-packages (from transformers==4.30) (1.25.2)\n",
            "Requirement already satisfied: packaging>=20.0 in /usr/local/lib/python3.10/dist-packages (from transformers==4.30) (24.0)\n",
            "Requirement already satisfied: pyyaml>=5.1 in /usr/local/lib/python3.10/dist-packages (from transformers==4.30) (6.0.1)\n",
            "Requirement already satisfied: regex!=2019.12.17 in /usr/local/lib/python3.10/dist-packages (from transformers==4.30) (2023.12.25)\n",
            "Requirement already satisfied: requests in /usr/local/lib/python3.10/dist-packages (from transformers==4.30) (2.31.0)\n",
            "Requirement already satisfied: tokenizers!=0.11.3,<0.14,>=0.11.1 in /usr/local/lib/python3.10/dist-packages (from transformers==4.30) (0.13.3)\n",
            "Requirement already satisfied: safetensors>=0.3.1 in /usr/local/lib/python3.10/dist-packages (from transformers==4.30) (0.4.2)\n",
            "Requirement already satisfied: tqdm>=4.27 in /usr/local/lib/python3.10/dist-packages (from transformers==4.30) (4.66.2)\n",
            "Requirement already satisfied: fsspec>=2023.5.0 in /usr/local/lib/python3.10/dist-packages (from huggingface-hub<1.0,>=0.14.1->transformers==4.30) (2023.6.0)\n",
            "Requirement already satisfied: typing-extensions>=3.7.4.3 in /usr/local/lib/python3.10/dist-packages (from huggingface-hub<1.0,>=0.14.1->transformers==4.30) (4.10.0)\n",
            "Requirement already satisfied: charset-normalizer<4,>=2 in /usr/local/lib/python3.10/dist-packages (from requests->transformers==4.30) (3.3.2)\n",
            "Requirement already satisfied: idna<4,>=2.5 in /usr/local/lib/python3.10/dist-packages (from requests->transformers==4.30) (3.6)\n",
            "Requirement already satisfied: urllib3<3,>=1.21.1 in /usr/local/lib/python3.10/dist-packages (from requests->transformers==4.30) (2.0.7)\n",
            "Requirement already satisfied: certifi>=2017.4.17 in /usr/local/lib/python3.10/dist-packages (from requests->transformers==4.30) (2024.2.2)\n"
          ]
        }
      ]
    },
    {
      "cell_type": "code",
      "source": [
        "import pandas as pd\n",
        "import torch\n",
        "import json\n",
        "from transformers import BloomTokenizerFast, BloomForCausalLM, TrainingArguments, Trainer\n",
        "from datasets import load_dataset\n",
        "from accelerate import Accelerator"
      ],
      "metadata": {
        "id": "EL9R9UFBWW1h"
      },
      "execution_count": null,
      "outputs": []
    },
    {
      "cell_type": "code",
      "source": [
        "# Create the Training Arguments\n",
        "training_arguments = TrainingArguments(\n",
        "    'LegalQA-bloom-560m-dev',\n",
        "    learning_rate=2e-5,\n",
        "    per_device_train_batch_size=2,\n",
        "    num_train_epochs=2,\n",
        "    weight_decay=0.01,\n",
        "    fp16=True,\n",
        "    optim=\"adafactor\",\n",
        "    gradient_accumulation_steps=4,\n",
        "    gradient_checkpointing=True\n",
        ")"
      ],
      "metadata": {
        "id": "4vbvEtLZWIAu"
      },
      "execution_count": null,
      "outputs": []
    },
    {
      "cell_type": "code",
      "source": [
        "# Create the trainer based on the Training Arguments\n",
        "trainer = Trainer(\n",
        "    model = model,\n",
        "    args = training_arguments,\n",
        "    train_dataset = train_dataset\n",
        ")"
      ],
      "metadata": {
        "id": "LQtMlO38Xa05"
      },
      "execution_count": null,
      "outputs": []
    },
    {
      "cell_type": "code",
      "source": [
        "# Train the model on the dataset\n",
        "trainer.train()"
      ],
      "metadata": {
        "colab": {
          "base_uri": "https://localhost:8080/",
          "height": 382
        },
        "id": "fl3-Bep2Xx4f",
        "outputId": "6c1ce71d-bb7b-40c3-b0b4-658af967950a"
      },
      "execution_count": null,
      "outputs": [
        {
          "output_type": "error",
          "ename": "RuntimeError",
          "evalue": "unscale_() has already been called on this optimizer since the last update().",
          "traceback": [
            "\u001b[0;31m---------------------------------------------------------------------------\u001b[0m",
            "\u001b[0;31mRuntimeError\u001b[0m                              Traceback (most recent call last)",
            "\u001b[0;32m<ipython-input-98-3435b262f1ae>\u001b[0m in \u001b[0;36m<cell line: 1>\u001b[0;34m()\u001b[0m\n\u001b[0;32m----> 1\u001b[0;31m \u001b[0mtrainer\u001b[0m\u001b[0;34m.\u001b[0m\u001b[0mtrain\u001b[0m\u001b[0;34m(\u001b[0m\u001b[0;34m)\u001b[0m\u001b[0;34m\u001b[0m\u001b[0;34m\u001b[0m\u001b[0m\n\u001b[0m",
            "\u001b[0;32m/usr/local/lib/python3.10/dist-packages/transformers/trainer.py\u001b[0m in \u001b[0;36mtrain\u001b[0;34m(self, resume_from_checkpoint, trial, ignore_keys_for_eval, **kwargs)\u001b[0m\n\u001b[1;32m   1643\u001b[0m             \u001b[0mself\u001b[0m\u001b[0;34m.\u001b[0m\u001b[0m_inner_training_loop\u001b[0m\u001b[0;34m,\u001b[0m \u001b[0mself\u001b[0m\u001b[0;34m.\u001b[0m\u001b[0m_train_batch_size\u001b[0m\u001b[0;34m,\u001b[0m \u001b[0margs\u001b[0m\u001b[0;34m.\u001b[0m\u001b[0mauto_find_batch_size\u001b[0m\u001b[0;34m\u001b[0m\u001b[0;34m\u001b[0m\u001b[0m\n\u001b[1;32m   1644\u001b[0m         )\n\u001b[0;32m-> 1645\u001b[0;31m         return inner_training_loop(\n\u001b[0m\u001b[1;32m   1646\u001b[0m             \u001b[0margs\u001b[0m\u001b[0;34m=\u001b[0m\u001b[0margs\u001b[0m\u001b[0;34m,\u001b[0m\u001b[0;34m\u001b[0m\u001b[0;34m\u001b[0m\u001b[0m\n\u001b[1;32m   1647\u001b[0m             \u001b[0mresume_from_checkpoint\u001b[0m\u001b[0;34m=\u001b[0m\u001b[0mresume_from_checkpoint\u001b[0m\u001b[0;34m,\u001b[0m\u001b[0;34m\u001b[0m\u001b[0;34m\u001b[0m\u001b[0m\n",
            "\u001b[0;32m/usr/local/lib/python3.10/dist-packages/transformers/trainer.py\u001b[0m in \u001b[0;36m_inner_training_loop\u001b[0;34m(self, batch_size, args, resume_from_checkpoint, trial, ignore_keys_for_eval)\u001b[0m\n\u001b[1;32m   1976\u001b[0m                             )\n\u001b[1;32m   1977\u001b[0m                         \u001b[0;32melse\u001b[0m\u001b[0;34m:\u001b[0m\u001b[0;34m\u001b[0m\u001b[0;34m\u001b[0m\u001b[0m\n\u001b[0;32m-> 1978\u001b[0;31m                             self.accelerator.clip_grad_norm_(\n\u001b[0m\u001b[1;32m   1979\u001b[0m                                 \u001b[0mmodel\u001b[0m\u001b[0;34m.\u001b[0m\u001b[0mparameters\u001b[0m\u001b[0;34m(\u001b[0m\u001b[0;34m)\u001b[0m\u001b[0;34m,\u001b[0m\u001b[0;34m\u001b[0m\u001b[0;34m\u001b[0m\u001b[0m\n\u001b[1;32m   1980\u001b[0m                                 \u001b[0margs\u001b[0m\u001b[0;34m.\u001b[0m\u001b[0mmax_grad_norm\u001b[0m\u001b[0;34m,\u001b[0m\u001b[0;34m\u001b[0m\u001b[0;34m\u001b[0m\u001b[0m\n",
            "\u001b[0;32m/usr/local/lib/python3.10/dist-packages/accelerate/accelerator.py\u001b[0m in \u001b[0;36mclip_grad_norm_\u001b[0;34m(self, parameters, max_norm, norm_type)\u001b[0m\n\u001b[1;32m   2143\u001b[0m                     \u001b[0;31m# Set is_xla_gradients_synced to True to avoid all-reduce twice in the AcceleratedOptimizer step.\u001b[0m\u001b[0;34m\u001b[0m\u001b[0;34m\u001b[0m\u001b[0m\n\u001b[1;32m   2144\u001b[0m                     \u001b[0macc_opt\u001b[0m\u001b[0;34m.\u001b[0m\u001b[0mgradient_state\u001b[0m\u001b[0;34m.\u001b[0m\u001b[0mis_xla_gradients_synced\u001b[0m \u001b[0;34m=\u001b[0m \u001b[0;32mTrue\u001b[0m\u001b[0;34m\u001b[0m\u001b[0;34m\u001b[0m\u001b[0m\n\u001b[0;32m-> 2145\u001b[0;31m         \u001b[0mself\u001b[0m\u001b[0;34m.\u001b[0m\u001b[0munscale_gradients\u001b[0m\u001b[0;34m(\u001b[0m\u001b[0;34m)\u001b[0m\u001b[0;34m\u001b[0m\u001b[0;34m\u001b[0m\u001b[0m\n\u001b[0m\u001b[1;32m   2146\u001b[0m         \u001b[0;32mreturn\u001b[0m \u001b[0mtorch\u001b[0m\u001b[0;34m.\u001b[0m\u001b[0mnn\u001b[0m\u001b[0;34m.\u001b[0m\u001b[0mutils\u001b[0m\u001b[0;34m.\u001b[0m\u001b[0mclip_grad_norm_\u001b[0m\u001b[0;34m(\u001b[0m\u001b[0mparameters\u001b[0m\u001b[0;34m,\u001b[0m \u001b[0mmax_norm\u001b[0m\u001b[0;34m,\u001b[0m \u001b[0mnorm_type\u001b[0m\u001b[0;34m=\u001b[0m\u001b[0mnorm_type\u001b[0m\u001b[0;34m)\u001b[0m\u001b[0;34m\u001b[0m\u001b[0;34m\u001b[0m\u001b[0m\n\u001b[1;32m   2147\u001b[0m \u001b[0;34m\u001b[0m\u001b[0m\n",
            "\u001b[0;32m/usr/local/lib/python3.10/dist-packages/accelerate/accelerator.py\u001b[0m in \u001b[0;36munscale_gradients\u001b[0;34m(self, optimizer)\u001b[0m\n\u001b[1;32m   2093\u001b[0m                 \u001b[0;32mwhile\u001b[0m \u001b[0misinstance\u001b[0m\u001b[0;34m(\u001b[0m\u001b[0mopt\u001b[0m\u001b[0;34m,\u001b[0m \u001b[0mAcceleratedOptimizer\u001b[0m\u001b[0;34m)\u001b[0m\u001b[0;34m:\u001b[0m\u001b[0;34m\u001b[0m\u001b[0;34m\u001b[0m\u001b[0m\n\u001b[1;32m   2094\u001b[0m                     \u001b[0mopt\u001b[0m \u001b[0;34m=\u001b[0m \u001b[0mopt\u001b[0m\u001b[0;34m.\u001b[0m\u001b[0moptimizer\u001b[0m\u001b[0;34m\u001b[0m\u001b[0;34m\u001b[0m\u001b[0m\n\u001b[0;32m-> 2095\u001b[0;31m                 \u001b[0mself\u001b[0m\u001b[0;34m.\u001b[0m\u001b[0mscaler\u001b[0m\u001b[0;34m.\u001b[0m\u001b[0munscale_\u001b[0m\u001b[0;34m(\u001b[0m\u001b[0mopt\u001b[0m\u001b[0;34m)\u001b[0m\u001b[0;34m\u001b[0m\u001b[0;34m\u001b[0m\u001b[0m\n\u001b[0m\u001b[1;32m   2096\u001b[0m \u001b[0;34m\u001b[0m\u001b[0m\n\u001b[1;32m   2097\u001b[0m     \u001b[0;32mdef\u001b[0m \u001b[0mclip_grad_norm_\u001b[0m\u001b[0;34m(\u001b[0m\u001b[0mself\u001b[0m\u001b[0;34m,\u001b[0m \u001b[0mparameters\u001b[0m\u001b[0;34m,\u001b[0m \u001b[0mmax_norm\u001b[0m\u001b[0;34m,\u001b[0m \u001b[0mnorm_type\u001b[0m\u001b[0;34m=\u001b[0m\u001b[0;36m2\u001b[0m\u001b[0;34m)\u001b[0m\u001b[0;34m:\u001b[0m\u001b[0;34m\u001b[0m\u001b[0;34m\u001b[0m\u001b[0m\n",
            "\u001b[0;32m/usr/local/lib/python3.10/dist-packages/torch/cuda/amp/grad_scaler.py\u001b[0m in \u001b[0;36munscale_\u001b[0;34m(self, optimizer)\u001b[0m\n\u001b[1;32m    323\u001b[0m \u001b[0;34m\u001b[0m\u001b[0m\n\u001b[1;32m    324\u001b[0m         \u001b[0;32mif\u001b[0m \u001b[0moptimizer_state\u001b[0m\u001b[0;34m[\u001b[0m\u001b[0;34m\"stage\"\u001b[0m\u001b[0;34m]\u001b[0m \u001b[0;32mis\u001b[0m \u001b[0mOptState\u001b[0m\u001b[0;34m.\u001b[0m\u001b[0mUNSCALED\u001b[0m\u001b[0;34m:\u001b[0m\u001b[0;34m\u001b[0m\u001b[0;34m\u001b[0m\u001b[0m\n\u001b[0;32m--> 325\u001b[0;31m             raise RuntimeError(\n\u001b[0m\u001b[1;32m    326\u001b[0m                 \u001b[0;34m\"unscale_() has already been called on this optimizer since the last update().\"\u001b[0m\u001b[0;34m\u001b[0m\u001b[0;34m\u001b[0m\u001b[0m\n\u001b[1;32m    327\u001b[0m             )\n",
            "\u001b[0;31mRuntimeError\u001b[0m: unscale_() has already been called on this optimizer since the last update()."
          ]
        }
      ]
    },
    {
      "cell_type": "code",
      "source": [
        "# Save a local copy of the model to be used in the future\n",
        "trainer.save_model()"
      ],
      "metadata": {
        "id": "fP7-c6dUX634"
      },
      "execution_count": null,
      "outputs": []
    },
    {
      "cell_type": "code",
      "source": [
        "import torch\n",
        "from transformers import pipeline\n",
        "from transformers import BloomTokenizerFast, BloomForCausalLM, TrainingArguments, Trainer"
      ],
      "metadata": {
        "id": "wXgQtcS0YcKT"
      },
      "execution_count": null,
      "outputs": []
    },
    {
      "cell_type": "code",
      "source": [
        "# Test the model\n",
        "tokenizer = BloomTokenizerFast.from_pretrained(\"bigscience/bloomz-560m\")\n",
        "model = BloomForCausalLM.from_pretrained(\"LegalQA-bloom-560m\",low_cpu_mem_usage=True).to(\"cpu\")\n",
        "prompt = 'Given the question delimited by triple backticks ```{What is NLP?}```, what is the answer? Answer:'\n",
        "generator = pipeline('text-generation', model=model, tokenizer=tokenizer,do_sample=False)\n",
        "result = generator(prompt, max_length=128)\n",
        "print(result)"
      ],
      "metadata": {
        "colab": {
          "base_uri": "https://localhost:8080/"
        },
        "id": "_7CAaSggYeWp",
        "outputId": "2d461657-7fda-4f1b-d177-de0185502b89"
      },
      "execution_count": null,
      "outputs": [
        {
          "output_type": "stream",
          "name": "stdout",
          "text": [
            "[{'generated_text': 'Given the question delimited by triple backticks ```{What is NLP?}```, what is the answer? Answer: ```{What is NLP?}````````````````````````````````````````````````````````````````````````````````````````````'}]\n"
          ]
        }
      ]
    }
  ]
}