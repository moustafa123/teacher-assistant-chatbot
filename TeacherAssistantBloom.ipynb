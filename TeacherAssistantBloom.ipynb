{
  "nbformat": 4,
  "nbformat_minor": 0,
  "metadata": {
    "colab": {
      "provenance": [],
      "gpuType": "T4",
      "include_colab_link": true
    },
    "kernelspec": {
      "name": "python3",
      "display_name": "Python 3"
    },
    "language_info": {
      "name": "python"
    },
    "accelerator": "GPU"
  },
  "cells": [
    {
      "cell_type": "markdown",
      "metadata": {
        "id": "view-in-github",
        "colab_type": "text"
      },
      "source": [
        "<a href=\"https://colab.research.google.com/github/moustafa123/teacher-assistant-chatbot/blob/main/TeacherAssistantBloom.ipynb\" target=\"_parent\"><img src=\"https://colab.research.google.com/assets/colab-badge.svg\" alt=\"Open In Colab\"/></a>"
      ]
    },
    {
      "cell_type": "code",
      "source": [
        "import pandas as pd\n",
        "import json"
      ],
      "metadata": {
        "id": "b9RvXdwjswui"
      },
      "execution_count": null,
      "outputs": []
    },
    {
      "cell_type": "code",
      "source": [
        "pd.set_option('display.max_rows', None)\n",
        "pd.set_option('display.max_columns', None)\n",
        "pd.set_option('display.width', None)\n",
        "pd.set_option('display.max_colwidth', None)"
      ],
      "metadata": {
        "id": "Ai4Ugo1PN1fl"
      },
      "execution_count": null,
      "outputs": []
    },
    {
      "cell_type": "code",
      "source": [
        "# CSI 5180 Dataset Generated\n",
        "dataset = pd.read_csv(\"VA-Questions-Answers.csv\")"
      ],
      "metadata": {
        "id": "nN5tekzxP79P"
      },
      "execution_count": null,
      "outputs": []
    },
    {
      "cell_type": "code",
      "source": [
        "dataset.dropna()\n",
        "dataset.shape"
      ],
      "metadata": {
        "id": "aqHId1DPQIEQ"
      },
      "execution_count": null,
      "outputs": []
    },
    {
      "cell_type": "code",
      "source": [
        "dataset.shape"
      ],
      "metadata": {
        "id": "SezTRF_lQBmz"
      },
      "execution_count": null,
      "outputs": []
    },
    {
      "cell_type": "code",
      "source": [
        "# Print Dataset Head\n",
        "dataset.head()"
      ],
      "metadata": {
        "id": "mP1ZGr-2QLqg"
      },
      "execution_count": null,
      "outputs": []
    },
    {
      "cell_type": "code",
      "source": [
        "# Build the prompt that will be passed to the model\n",
        "def buildprompts(data):\n",
        "    prompt = {}\n",
        "    prompt['text'] = \"Given the question delimited by triple backticks ```{\" + data['question'] + \"}```, what is the answer? Answer: {\" + data['answer'] + \"}\"\n",
        "    return prompt"
      ],
      "metadata": {
        "id": "xpM_cXYDQefv"
      },
      "execution_count": null,
      "outputs": []
    },
    {
      "cell_type": "code",
      "source": [
        "dataset['prompt'] = dataset.apply(buildprompts, axis=1)"
      ],
      "metadata": {
        "id": "JTpoouRkQhg3"
      },
      "execution_count": null,
      "outputs": []
    },
    {
      "cell_type": "code",
      "source": [
        "print(dataset['prompt'])"
      ],
      "metadata": {
        "id": "FhAj54_vTGvP"
      },
      "execution_count": null,
      "outputs": []
    },
    {
      "cell_type": "code",
      "source": [
        "# Insert the prompt dataset in a json file\n",
        "result = dataset['prompt'].to_list()\n",
        "with open('/content/sample_data/prompts.json', 'w') as outfile:\n",
        "    json.dump(result, outfile, ensure_ascii=False)"
      ],
      "metadata": {
        "id": "kjOYCjEJTem7"
      },
      "execution_count": null,
      "outputs": []
    },
    {
      "cell_type": "code",
      "execution_count": null,
      "metadata": {
        "id": "5u4A2J1OXXZ5"
      },
      "outputs": [],
      "source": [
        "!pip install transformers\n",
        "!pip install accelerate -U\n",
        "!pip install datasets"
      ]
    },
    {
      "cell_type": "code",
      "source": [
        "import pandas as pd\n",
        "import torch\n",
        "import json\n",
        "from transformers import BloomTokenizerFast, BloomForCausalLM, TrainingArguments, Trainer\n",
        "from datasets import load_dataset\n",
        "from accelerate import Accelerator"
      ],
      "metadata": {
        "id": "3QmeKkMiToU7"
      },
      "execution_count": null,
      "outputs": []
    },
    {
      "cell_type": "code",
      "source": [
        "# Get the tokenizer and model from bloomz-560m\n",
        "tokenizer = BloomTokenizerFast.from_pretrained(\"bigscience/bloomz-560m\")\n",
        "model = BloomForCausalLM.from_pretrained(\"bigscience/bloomz-560m\").to(\"cuda\")"
      ],
      "metadata": {
        "id": "ZuBqFt-uUau6"
      },
      "execution_count": null,
      "outputs": []
    },
    {
      "cell_type": "code",
      "source": [
        "# Load json dataset\n",
        "dataset = load_dataset(\"json\", data_files=\"/content/sample_data/prompts.json\")"
      ],
      "metadata": {
        "id": "-HFjuLP1UlHi"
      },
      "execution_count": null,
      "outputs": []
    },
    {
      "cell_type": "code",
      "source": [
        "dataset"
      ],
      "metadata": {
        "id": "JjEfE4JEUttY"
      },
      "execution_count": null,
      "outputs": []
    },
    {
      "cell_type": "code",
      "source": [
        "# Function to prepare the training data\n",
        "def prepare_train_data(data):\n",
        "    # prompt + completion\n",
        "    #text_input = data['prompt'] + ' ' + data['completion']\n",
        "    text_input = data['text']\n",
        "    # tokenize the input (prompt + completion) text\n",
        "    tokenized_input = tokenizer(text_input, return_tensors='pt', padding=True)\n",
        "    # generative models: labels are the same as the input\n",
        "    tokenized_input['labels'] = tokenized_input['input_ids']\n",
        "    return tokenized_input"
      ],
      "metadata": {
        "id": "NhlEUOyPUvoT"
      },
      "execution_count": null,
      "outputs": []
    },
    {
      "cell_type": "code",
      "source": [
        "train_dataset = dataset['train'].map(prepare_train_data, batched=True, remove_columns=[\"text\"])"
      ],
      "metadata": {
        "id": "7h_GfiD5UynH"
      },
      "execution_count": null,
      "outputs": []
    },
    {
      "cell_type": "code",
      "source": [
        "train_dataset"
      ],
      "metadata": {
        "id": "z48lU4bncA-t"
      },
      "execution_count": null,
      "outputs": []
    },
    {
      "cell_type": "code",
      "source": [
        "!pip install accelerate -U\n",
        "!pip install transformers==4.30"
      ],
      "metadata": {
        "id": "sZORXSC_U4mK"
      },
      "execution_count": null,
      "outputs": []
    },
    {
      "cell_type": "code",
      "source": [
        "import pandas as pd\n",
        "import torch\n",
        "import json\n",
        "from transformers import BloomTokenizerFast, BloomForCausalLM, TrainingArguments, Trainer\n",
        "from datasets import load_dataset\n",
        "from accelerate import Accelerator"
      ],
      "metadata": {
        "id": "EL9R9UFBWW1h"
      },
      "execution_count": null,
      "outputs": []
    },
    {
      "cell_type": "code",
      "source": [
        "# Create the Training Arguments\n",
        "training_arguments = TrainingArguments(\n",
        "    'LegalQA-bloom-560m-dev',\n",
        "    learning_rate=2e-5,\n",
        "    per_device_train_batch_size=2,\n",
        "    num_train_epochs=2,\n",
        "    weight_decay=0.01,\n",
        "    fp16=True,\n",
        "    optim=\"adafactor\",\n",
        "    gradient_accumulation_steps=4,\n",
        "    gradient_checkpointing=True\n",
        ")"
      ],
      "metadata": {
        "id": "4vbvEtLZWIAu"
      },
      "execution_count": null,
      "outputs": []
    },
    {
      "cell_type": "code",
      "source": [
        "# Create the trainer based on the Training Arguments\n",
        "trainer = Trainer(\n",
        "    model = model,\n",
        "    args = training_arguments,\n",
        "    train_dataset = train_dataset\n",
        ")"
      ],
      "metadata": {
        "id": "LQtMlO38Xa05"
      },
      "execution_count": null,
      "outputs": []
    },
    {
      "cell_type": "code",
      "source": [
        "# Train the model on the dataset\n",
        "trainer.train()"
      ],
      "metadata": {
        "id": "fl3-Bep2Xx4f"
      },
      "execution_count": null,
      "outputs": []
    },
    {
      "cell_type": "code",
      "source": [
        "# Save a local copy of the model to be used in the future\n",
        "trainer.save_model()"
      ],
      "metadata": {
        "id": "fP7-c6dUX634"
      },
      "execution_count": null,
      "outputs": []
    },
    {
      "cell_type": "code",
      "source": [
        "import torch\n",
        "from transformers import pipeline\n",
        "from transformers import BloomTokenizerFast, BloomForCausalLM, TrainingArguments, Trainer"
      ],
      "metadata": {
        "id": "wXgQtcS0YcKT"
      },
      "execution_count": null,
      "outputs": []
    },
    {
      "cell_type": "code",
      "source": [
        "# Test the model\n",
        "tokenizer = BloomTokenizerFast.from_pretrained(\"bigscience/bloomz-560m\")\n",
        "model = BloomForCausalLM.from_pretrained(\"LegalQA-bloom-560m\",low_cpu_mem_usage=True).to(\"cpu\")\n",
        "prompt = 'Given the question delimited by triple backticks ```{What is NLP?}```, what is the answer? Answer:'\n",
        "generator = pipeline('text-generation', model=model, tokenizer=tokenizer,do_sample=False)\n",
        "result = generator(prompt, max_length=128)\n",
        "print(result)"
      ],
      "metadata": {
        "id": "_7CAaSggYeWp"
      },
      "execution_count": null,
      "outputs": []
    }
  ]
}